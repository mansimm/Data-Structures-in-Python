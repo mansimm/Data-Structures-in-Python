{
 "cells": [
  {
   "cell_type": "markdown",
   "metadata": {},
   "source": [
    "# Insertion sort"
   ]
  },
  {
   "cell_type": "code",
   "execution_count": 7,
   "metadata": {},
   "outputs": [],
   "source": [
    "def insertionSort(arr) :\n",
    "    n = len(arr)\n",
    "    # traverse all array\n",
    "    for i in range(1,n):\n",
    "        key=arr[i]\n",
    "        j = i-1\n",
    "        # shift all elements by one position ahead which are greater than key\n",
    "        while j>=0 and arr[j]>key:\n",
    "            arr[j+1]=arr[j]\n",
    "            j=j-1\n",
    "        arr[j+1] = key"
   ]
  },
  {
   "cell_type": "code",
   "execution_count": 8,
   "metadata": {},
   "outputs": [
    {
     "name": "stdout",
     "output_type": "stream",
     "text": [
      "     Insertion sort\n",
      "\n",
      "    Befor sorting numbers are :\n",
      "10\n",
      "50\n",
      "30\n",
      "20\n",
      "90\n",
      "40\n",
      "60\n",
      "70\n",
      "80\n",
      "\n",
      "    After sorting numbers are :\n",
      "10\n",
      "20\n",
      "30\n",
      "40\n",
      "50\n",
      "60\n",
      "70\n",
      "80\n",
      "90\n"
     ]
    }
   ],
   "source": [
    "arr = [10,50,30,20,90,40,60,70,80]\n",
    "print(\"     Insertion sort\")\n",
    "print(\"\\n    Befor sorting numbers are :\")\n",
    "for i in arr:\n",
    "    print(i)\n",
    "    \n",
    "insertionSort(arr)\n",
    "\n",
    "print(\"\\n    After sorting numbers are :\")\n",
    "for i in arr:\n",
    "    print(i)"
   ]
  },
  {
   "cell_type": "code",
   "execution_count": null,
   "metadata": {},
   "outputs": [],
   "source": []
  }
 ],
 "metadata": {
  "kernelspec": {
   "display_name": "Python 3",
   "language": "python",
   "name": "python3"
  },
  "language_info": {
   "codemirror_mode": {
    "name": "ipython",
    "version": 3
   },
   "file_extension": ".py",
   "mimetype": "text/x-python",
   "name": "python",
   "nbconvert_exporter": "python",
   "pygments_lexer": "ipython3",
   "version": "3.7.3"
  }
 },
 "nbformat": 4,
 "nbformat_minor": 2
}
