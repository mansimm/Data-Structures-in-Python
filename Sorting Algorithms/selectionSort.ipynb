{
 "cells": [
  {
   "cell_type": "markdown",
   "metadata": {},
   "source": [
    "# Selection Sort"
   ]
  },
  {
   "cell_type": "code",
   "execution_count": 7,
   "metadata": {},
   "outputs": [],
   "source": [
    "def selectionSort(arr):\n",
    "    n = len(arr)\n",
    "    # iterate over entire array\n",
    "    for i in range(n):\n",
    "        min = i\n",
    "        #find index of minimum element in min\n",
    "        for j in range(i+1,n):\n",
    "            if arr[min]>arr[j]:\n",
    "                min = j\n",
    "        #swap arr[min] and arr[i]\n",
    "        arr[min],arr[i] = arr[i],arr[min]"
   ]
  },
  {
   "cell_type": "code",
   "execution_count": 8,
   "metadata": {},
   "outputs": [
    {
     "name": "stdout",
     "output_type": "stream",
     "text": [
      "    Selection Sort\n",
      "\n",
      "  Befor sorting numbers are :\n",
      "11\n",
      "77\n",
      "66\n",
      "22\n",
      "44\n",
      "33\n",
      "55\n",
      "88\n",
      "99\n",
      "\n",
      "  After sorting numbers are :\n",
      "11\n",
      "22\n",
      "33\n",
      "44\n",
      "55\n",
      "66\n",
      "77\n",
      "88\n",
      "99\n"
     ]
    }
   ],
   "source": [
    "arr = [11,77,66,22,44,33,55,88,99]\n",
    "print(\"    Selection Sort\")\n",
    "print(\"\\n  Befor sorting numbers are :\")\n",
    "for i in arr:\n",
    "    print(i)\n",
    "    \n",
    "selectionSort(arr)\n",
    "\n",
    "print(\"\\n  After sorting numbers are :\")\n",
    "for i in arr:\n",
    "    print(i)"
   ]
  },
  {
   "cell_type": "code",
   "execution_count": null,
   "metadata": {},
   "outputs": [],
   "source": []
  }
 ],
 "metadata": {
  "kernelspec": {
   "display_name": "Python 3",
   "language": "python",
   "name": "python3"
  },
  "language_info": {
   "codemirror_mode": {
    "name": "ipython",
    "version": 3
   },
   "file_extension": ".py",
   "mimetype": "text/x-python",
   "name": "python",
   "nbconvert_exporter": "python",
   "pygments_lexer": "ipython3",
   "version": "3.7.3"
  }
 },
 "nbformat": 4,
 "nbformat_minor": 2
}
