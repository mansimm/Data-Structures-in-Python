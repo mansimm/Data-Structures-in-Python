{
 "cells": [
  {
   "cell_type": "markdown",
   "metadata": {},
   "source": [
    "# Stack Operations"
   ]
  },
  {
   "cell_type": "code",
   "execution_count": 1,
   "metadata": {},
   "outputs": [
    {
     "name": "stdout",
     "output_type": "stream",
     "text": [
      "Stack is :\n",
      "['a', 'b', 'c']\n"
     ]
    }
   ],
   "source": [
    "#stack operations using list\n",
    "Stack = []\n",
    "#push in stack\n",
    "Stack.append('a')\n",
    "Stack.append('b')\n",
    "Stack.append('c')\n",
    "#print stack elements\n",
    "print(\"Stack is :\")\n",
    "print(Stack)"
   ]
  },
  {
   "cell_type": "code",
   "execution_count": 5,
   "metadata": {},
   "outputs": [
    {
     "name": "stdout",
     "output_type": "stream",
     "text": [
      "Peek elements is :\n",
      "c\n"
     ]
    }
   ],
   "source": [
    "print(\"Peek elements is :\")\n",
    "print(Stack[-1])"
   ]
  },
  {
   "cell_type": "code",
   "execution_count": 6,
   "metadata": {},
   "outputs": [
    {
     "name": "stdout",
     "output_type": "stream",
     "text": [
      "pop element : c\n"
     ]
    }
   ],
   "source": [
    "#pop elements\n",
    "x = Stack.pop()\n",
    "print(\"pop element : \"+str(x))"
   ]
  },
  {
   "cell_type": "code",
   "execution_count": 7,
   "metadata": {},
   "outputs": [
    {
     "name": "stdout",
     "output_type": "stream",
     "text": [
      "pop element : b\n"
     ]
    }
   ],
   "source": [
    "#pop elements\n",
    "x = Stack.pop()\n",
    "print(\"pop element : \"+str(x))"
   ]
  },
  {
   "cell_type": "code",
   "execution_count": 9,
   "metadata": {},
   "outputs": [
    {
     "name": "stdout",
     "output_type": "stream",
     "text": [
      "Stack is not empty...\n"
     ]
    }
   ],
   "source": [
    "#check empty or not\n",
    "if len(Stack) == 0:\n",
    "    print(\"Stack is empty!\")\n",
    "else:\n",
    "    print(\"Stack is not empty...\")"
   ]
  },
  {
   "cell_type": "code",
   "execution_count": 10,
   "metadata": {},
   "outputs": [
    {
     "name": "stdout",
     "output_type": "stream",
     "text": [
      "pop element : a\n"
     ]
    }
   ],
   "source": [
    "#pop elements\n",
    "x = Stack.pop()\n",
    "print(\"pop element : \"+str(x))"
   ]
  },
  {
   "cell_type": "code",
   "execution_count": 11,
   "metadata": {},
   "outputs": [
    {
     "name": "stdout",
     "output_type": "stream",
     "text": [
      "Stack is empty!\n"
     ]
    }
   ],
   "source": [
    "#check empty or not\n",
    "if len(Stack) == 0:\n",
    "    print(\"Stack is empty!\")\n",
    "else:\n",
    "    print(\"Stack is not empty...\")"
   ]
  },
  {
   "cell_type": "markdown",
   "metadata": {},
   "source": [
    "# Complete Implementation of stack using list"
   ]
  },
  {
   "cell_type": "code",
   "execution_count": 32,
   "metadata": {},
   "outputs": [],
   "source": [
    "class stack:\n",
    "    def __init__(self):\n",
    "        self.Stack = []\n",
    "        \n",
    "    def __len__(self):\n",
    "        return len(self.Stack)\n",
    "        \n",
    "    #check stack is empty or not\n",
    "    def isEmpty(self):\n",
    "        return len(self.Stack) == 0\n",
    "    \n",
    "    #push elements\n",
    "    def push(self,data):\n",
    "        self.Stack.append(data)\n",
    "       \n",
    "    #pop element\n",
    "    def pop(self):\n",
    "        if self.isEmpty():\n",
    "            print(\"Stack is empty.\")\n",
    "        else:\n",
    "            x = self.Stack.pop()\n",
    "            print(\"Pop element : \"+str(x))\n",
    "            \n",
    "\n",
    "    #return peek element\n",
    "    def peek(self):\n",
    "        if self.isEmpty():\n",
    "            print(\"Stack is empty.\")\n",
    "        else:\n",
    "            print(\"Peek element : \"+str(self.Stack[-1]))\n",
    "            \n",
    "    def search(self,y):\n",
    "        for x in self.Stack:\n",
    "            if x== y:\n",
    "                print(str(y)+\" is present in stack\")\n",
    "                return\n",
    "        print(str(y)+\" Not Found !\")\n",
    "        \n",
    "    def traverse(self):\n",
    "        print(\"Stack elements are :\" )\n",
    "        print(self.Stack)\n",
    "    "
   ]
  },
  {
   "cell_type": "code",
   "execution_count": 36,
   "metadata": {},
   "outputs": [
    {
     "name": "stdout",
     "output_type": "stream",
     "text": [
      "-------------------------------------------------------------------------------------\n",
      "\n",
      "                 Stack operations using list \n",
      "1.Push\n",
      "2.Pop\n",
      "3.Peek element\n",
      "4.Size(number of elements in stack)\n",
      "5.Check Empty\n",
      "6.Search\n",
      "7.Traverse\n",
      "8.Exit\n",
      "\n",
      "         Select operation : 1\n",
      "\n",
      " Enter the data : 11\n",
      "-------------------------------------------------------------------------------------\n",
      "\n",
      "                 Stack operations using list \n",
      "1.Push\n",
      "2.Pop\n",
      "3.Peek element\n",
      "4.Size(number of elements in stack)\n",
      "5.Check Empty\n",
      "6.Search\n",
      "7.Traverse\n",
      "8.Exit\n",
      "\n",
      "         Select operation : 1\n",
      "\n",
      " Enter the data : 22\n",
      "-------------------------------------------------------------------------------------\n",
      "\n",
      "                 Stack operations using list \n",
      "1.Push\n",
      "2.Pop\n",
      "3.Peek element\n",
      "4.Size(number of elements in stack)\n",
      "5.Check Empty\n",
      "6.Search\n",
      "7.Traverse\n",
      "8.Exit\n",
      "\n",
      "         Select operation : 1\n",
      "\n",
      " Enter the data : 33\n",
      "-------------------------------------------------------------------------------------\n",
      "\n",
      "                 Stack operations using list \n",
      "1.Push\n",
      "2.Pop\n",
      "3.Peek element\n",
      "4.Size(number of elements in stack)\n",
      "5.Check Empty\n",
      "6.Search\n",
      "7.Traverse\n",
      "8.Exit\n",
      "\n",
      "         Select operation : 1\n",
      "\n",
      " Enter the data : 44\n",
      "-------------------------------------------------------------------------------------\n",
      "\n",
      "                 Stack operations using list \n",
      "1.Push\n",
      "2.Pop\n",
      "3.Peek element\n",
      "4.Size(number of elements in stack)\n",
      "5.Check Empty\n",
      "6.Search\n",
      "7.Traverse\n",
      "8.Exit\n",
      "\n",
      "         Select operation : 7\n",
      "Stack elements are :\n",
      "[11, 22, 33, 44]\n",
      "-------------------------------------------------------------------------------------\n",
      "\n",
      "                 Stack operations using list \n",
      "1.Push\n",
      "2.Pop\n",
      "3.Peek element\n",
      "4.Size(number of elements in stack)\n",
      "5.Check Empty\n",
      "6.Search\n",
      "7.Traverse\n",
      "8.Exit\n",
      "\n",
      "         Select operation : 3\n",
      "Peek element : 44\n",
      "-------------------------------------------------------------------------------------\n",
      "\n",
      "                 Stack operations using list \n",
      "1.Push\n",
      "2.Pop\n",
      "3.Peek element\n",
      "4.Size(number of elements in stack)\n",
      "5.Check Empty\n",
      "6.Search\n",
      "7.Traverse\n",
      "8.Exit\n",
      "\n",
      "         Select operation : 2\n",
      "Pop element : 44\n",
      "-------------------------------------------------------------------------------------\n",
      "\n",
      "                 Stack operations using list \n",
      "1.Push\n",
      "2.Pop\n",
      "3.Peek element\n",
      "4.Size(number of elements in stack)\n",
      "5.Check Empty\n",
      "6.Search\n",
      "7.Traverse\n",
      "8.Exit\n",
      "\n",
      "         Select operation : 3\n",
      "Peek element : 33\n",
      "-------------------------------------------------------------------------------------\n",
      "\n",
      "                 Stack operations using list \n",
      "1.Push\n",
      "2.Pop\n",
      "3.Peek element\n",
      "4.Size(number of elements in stack)\n",
      "5.Check Empty\n",
      "6.Search\n",
      "7.Traverse\n",
      "8.Exit\n",
      "\n",
      "         Select operation : 4\n",
      "Size : 3\n",
      "-------------------------------------------------------------------------------------\n",
      "\n",
      "                 Stack operations using list \n",
      "1.Push\n",
      "2.Pop\n",
      "3.Peek element\n",
      "4.Size(number of elements in stack)\n",
      "5.Check Empty\n",
      "6.Search\n",
      "7.Traverse\n",
      "8.Exit\n",
      "\n",
      "         Select operation : 5\n",
      "Stack is not empty \n",
      "-------------------------------------------------------------------------------------\n",
      "\n",
      "                 Stack operations using list \n",
      "1.Push\n",
      "2.Pop\n",
      "3.Peek element\n",
      "4.Size(number of elements in stack)\n",
      "5.Check Empty\n",
      "6.Search\n",
      "7.Traverse\n",
      "8.Exit\n",
      "\n",
      "         Select operation : 6\n",
      "\n",
      " Enter the data to search : 11\n",
      "11 is present in stack\n",
      "-------------------------------------------------------------------------------------\n",
      "\n",
      "                 Stack operations using list \n",
      "1.Push\n",
      "2.Pop\n",
      "3.Peek element\n",
      "4.Size(number of elements in stack)\n",
      "5.Check Empty\n",
      "6.Search\n",
      "7.Traverse\n",
      "8.Exit\n",
      "\n",
      "         Select operation : 6\n",
      "\n",
      " Enter the data to search : 77\n",
      "77 Not Found !\n",
      "-------------------------------------------------------------------------------------\n",
      "\n",
      "                 Stack operations using list \n",
      "1.Push\n",
      "2.Pop\n",
      "3.Peek element\n",
      "4.Size(number of elements in stack)\n",
      "5.Check Empty\n",
      "6.Search\n",
      "7.Traverse\n",
      "8.Exit\n",
      "\n",
      "         Select operation : 7\n",
      "Stack elements are :\n",
      "[11, 22, 33]\n",
      "-------------------------------------------------------------------------------------\n",
      "\n",
      "                 Stack operations using list \n",
      "1.Push\n",
      "2.Pop\n",
      "3.Peek element\n",
      "4.Size(number of elements in stack)\n",
      "5.Check Empty\n",
      "6.Search\n",
      "7.Traverse\n",
      "8.Exit\n",
      "\n",
      "         Select operation : 8\n",
      "\n",
      " Thank you !\n"
     ]
    }
   ],
   "source": [
    "s1 = stack() \n",
    "\n",
    "while True:\n",
    "    print(\"-------------------------------------------------------------------------------------\")\n",
    "    print(\"\\n                 Stack operations using list \")\n",
    "\n",
    "    print(\"1.Push\")\n",
    "    print(\"2.Pop\")\n",
    "    print(\"3.Peek element\")\n",
    "    print(\"4.Size(number of elements in stack)\")\n",
    "    print(\"5.Check Empty\")\n",
    "    print(\"6.Search\")\n",
    "    print(\"7.Traverse\")\n",
    "    print(\"8.Exit\")\n",
    "    choice= int(input(\"\\n         Select operation : \"))\n",
    "    \n",
    "    if choice == 1:\n",
    "        x = int(input(\"\\n Enter the data : \"))\n",
    "        s1.push(x)\n",
    "                    \n",
    "    elif choice == 2:\n",
    "        s1.pop()\n",
    "    \n",
    "    elif choice == 3:\n",
    "        s1.peek()\n",
    "    \n",
    "    elif choice == 4:\n",
    "        x = len(s1)\n",
    "        print(\"Size : \"+str(x))\n",
    "                \n",
    "    elif choice == 5:\n",
    "        if s1.isEmpty():\n",
    "            print(\"Stack is empty\")\n",
    "        else:\n",
    "            print(\"Stack is not empty \")\n",
    "        \n",
    "    elif choice == 6:\n",
    "        x = int(input(\"\\n Enter the data to search : \"))\n",
    "        s1.search(x)\n",
    "        \n",
    "    elif choice == 7:\n",
    "        s1.traverse()\n",
    "        \n",
    "    elif choice == 8:\n",
    "        print(\"\\n Thank you !\")\n",
    "        break\n",
    "                   \n",
    "    else:\n",
    "        print(\"\\n Plaese select correct option !\")\n",
    "            \n",
    "    "
   ]
  },
  {
   "cell_type": "code",
   "execution_count": null,
   "metadata": {},
   "outputs": [],
   "source": [
    "\n"
   ]
  },
  {
   "cell_type": "code",
   "execution_count": null,
   "metadata": {},
   "outputs": [],
   "source": []
  },
  {
   "cell_type": "code",
   "execution_count": null,
   "metadata": {},
   "outputs": [],
   "source": []
  }
 ],
 "metadata": {
  "kernelspec": {
   "display_name": "Python 3",
   "language": "python",
   "name": "python3"
  },
  "language_info": {
   "codemirror_mode": {
    "name": "ipython",
    "version": 3
   },
   "file_extension": ".py",
   "mimetype": "text/x-python",
   "name": "python",
   "nbconvert_exporter": "python",
   "pygments_lexer": "ipython3",
   "version": "3.7.3"
  }
 },
 "nbformat": 4,
 "nbformat_minor": 2
}
