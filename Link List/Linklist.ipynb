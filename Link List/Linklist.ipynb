{
 "cells": [
  {
   "cell_type": "markdown",
   "metadata": {},
   "source": [
    "# Singly Link List"
   ]
  },
  {
   "cell_type": "markdown",
   "metadata": {},
   "source": [
    "## Define Node"
   ]
  },
  {
   "cell_type": "code",
   "execution_count": 13,
   "metadata": {},
   "outputs": [],
   "source": [
    "#defining structure of nodes in linklist\n",
    "class ListNode:\n",
    "    def __init__(self,data):\n",
    "        self.data = data\n",
    "        self.next = None\n"
   ]
  },
  {
   "cell_type": "markdown",
   "metadata": {},
   "source": [
    "## Traversing link list"
   ]
  },
  {
   "cell_type": "code",
   "execution_count": 40,
   "metadata": {},
   "outputs": [],
   "source": [
    "\n",
    "#traversing link list\n",
    "def traverse(head):\n",
    "    if head is None:\n",
    "        print(\"link list is empty !\")\n",
    "        return\n",
    "    else:\n",
    "        p = head\n",
    "        while p is not None :\n",
    "            print(p.data)\n",
    "            p = p.next"
   ]
  },
  {
   "cell_type": "markdown",
   "metadata": {},
   "source": [
    "## Insert at the end"
   ]
  },
  {
   "cell_type": "code",
   "execution_count": 50,
   "metadata": {},
   "outputs": [],
   "source": [
    "#insert at the end of link list\n",
    "def append(head,item):\n",
    "    newNode = ListNode(item)\n",
    "    if head is None:\n",
    "        head = newNode\n",
    "    else:\n",
    "        p = head\n",
    "        while p.next is not None:\n",
    "            p = p.next\n",
    "        p.next = newNode\n",
    "    return head"
   ]
  },
  {
   "cell_type": "code",
   "execution_count": 49,
   "metadata": {},
   "outputs": [
    {
     "name": "stdout",
     "output_type": "stream",
     "text": [
      "link list is empty !\n",
      "10\n",
      "20\n",
      "30\n",
      "40\n"
     ]
    }
   ],
   "source": [
    "head = None\n",
    "traverse(head)\n",
    "\n",
    "head = append(head,10)\n",
    "head = append(head,20)\n",
    "head = append(head,30)\n",
    "head = append(head,40)\n",
    "\n",
    "traverse(head)"
   ]
  },
  {
   "cell_type": "markdown",
   "metadata": {},
   "source": [
    "## Insert at the begining"
   ]
  },
  {
   "cell_type": "code",
   "execution_count": 38,
   "metadata": {},
   "outputs": [],
   "source": [
    "#insert element at the begining of nodes\n",
    "def prepend(head,item):\n",
    "    newNode = ListNode(item)\n",
    "    newNode.next = head\n",
    "    head = newNode\n",
    "    return head"
   ]
  },
  {
   "cell_type": "code",
   "execution_count": 64,
   "metadata": {},
   "outputs": [
    {
     "name": "stdout",
     "output_type": "stream",
     "text": [
      "link list is empty !\n",
      "40\n",
      "30\n",
      "20\n",
      "10\n"
     ]
    }
   ],
   "source": [
    "head = None\n",
    "traverse(head)\n",
    "\n",
    "head = prepend(head,10)\n",
    "head = prepend(head,20)\n",
    "head = prepend(head,30)\n",
    "head = prepend(head,40)\n",
    "\n",
    "traverse(head)"
   ]
  },
  {
   "cell_type": "markdown",
   "metadata": {},
   "source": [
    "## Delete node with given data"
   ]
  },
  {
   "cell_type": "code",
   "execution_count": 61,
   "metadata": {},
   "outputs": [],
   "source": [
    "def remove(head,data):\n",
    "    p = head\n",
    "    prev = None\n",
    "    #if link list is empty\n",
    "    if head is None:\n",
    "        print(\"Link list is empty ! cannot delete...\")\n",
    "        return head\n",
    "    #if head is is to be deleted\n",
    "    elif head.data == data:\n",
    "        head = head.next\n",
    "        return head\n",
    "    while p is not None and p.data != data:\n",
    "        prev = p\n",
    "        p = p.next\n",
    "    if p is None :\n",
    "        print(\"node not found!\")\n",
    "        return head\n",
    "    else:\n",
    "        prev.next = p.next\n",
    "        return head\n",
    "    "
   ]
  },
  {
   "cell_type": "code",
   "execution_count": 57,
   "metadata": {},
   "outputs": [
    {
     "name": "stdout",
     "output_type": "stream",
     "text": [
      "<__main__.ListNode object at 0x7f782cced198>\n"
     ]
    }
   ],
   "source": [
    "print(head)"
   ]
  },
  {
   "cell_type": "code",
   "execution_count": 74,
   "metadata": {},
   "outputs": [
    {
     "name": "stdout",
     "output_type": "stream",
     "text": [
      "link list is empty !\n",
      "40\n",
      "30\n",
      "20\n",
      "10\n"
     ]
    }
   ],
   "source": [
    "head = None\n",
    "traverse(head)\n",
    "\n",
    "head = prepend(head,10)\n",
    "head = prepend(head,20)\n",
    "head = prepend(head,30)\n",
    "head = prepend(head,40)\n",
    "\n",
    "traverse(head)"
   ]
  },
  {
   "cell_type": "code",
   "execution_count": 75,
   "metadata": {},
   "outputs": [
    {
     "name": "stdout",
     "output_type": "stream",
     "text": [
      "40\n",
      "20\n",
      "10\n"
     ]
    }
   ],
   "source": [
    "#delete 30\n",
    "head = remove(head,30)\n",
    "traverse(head)"
   ]
  },
  {
   "cell_type": "code",
   "execution_count": 76,
   "metadata": {},
   "outputs": [
    {
     "name": "stdout",
     "output_type": "stream",
     "text": [
      "20\n",
      "10\n"
     ]
    }
   ],
   "source": [
    "#delete head\n",
    "head = remove(head,40)\n",
    "traverse(head)"
   ]
  },
  {
   "cell_type": "code",
   "execution_count": 77,
   "metadata": {},
   "outputs": [
    {
     "name": "stdout",
     "output_type": "stream",
     "text": [
      "20\n"
     ]
    }
   ],
   "source": [
    "#delete last node\n",
    "head = remove(head,10)\n",
    "traverse(head)"
   ]
  },
  {
   "cell_type": "markdown",
   "metadata": {},
   "source": [
    "## Search nodes"
   ]
  },
  {
   "cell_type": "code",
   "execution_count": 89,
   "metadata": {},
   "outputs": [],
   "source": [
    "#Searching element\n",
    "def search(head, item):\n",
    "    if head is not None:\n",
    "        p = head\n",
    "        while p is not None and p.data != item  :\n",
    "            p = p.next\n",
    "        if p is None :\n",
    "            print(str(item)+\" is not present in list !\")\n",
    "        else:\n",
    "            print(str(item)+\" is present in list .\")\n",
    "    else:\n",
    "        print(\"Linklist is empty!\")\n"
   ]
  },
  {
   "cell_type": "code",
   "execution_count": 86,
   "metadata": {},
   "outputs": [
    {
     "name": "stdout",
     "output_type": "stream",
     "text": [
      "40\n",
      "30\n",
      "20\n",
      "10\n"
     ]
    }
   ],
   "source": [
    "head = None\n",
    "\n",
    "head = prepend(head,10)\n",
    "head = prepend(head,20)\n",
    "head = prepend(head,30)\n",
    "head = prepend(head,40)\n",
    "\n",
    "traverse(head)"
   ]
  },
  {
   "cell_type": "code",
   "execution_count": 90,
   "metadata": {},
   "outputs": [
    {
     "name": "stdout",
     "output_type": "stream",
     "text": [
      "20 is present in list .\n"
     ]
    }
   ],
   "source": [
    "search(head, 20)"
   ]
  },
  {
   "cell_type": "code",
   "execution_count": 91,
   "metadata": {},
   "outputs": [
    {
     "name": "stdout",
     "output_type": "stream",
     "text": [
      "100 is not present in list !\n"
     ]
    }
   ],
   "source": [
    "search(head, 100)"
   ]
  },
  {
   "cell_type": "markdown",
   "metadata": {},
   "source": [
    "## Sorting of nodes"
   ]
  },
  {
   "cell_type": "code",
   "execution_count": 92,
   "metadata": {},
   "outputs": [],
   "source": [
    "#sorting linklist\n",
    "def sort(head):\n",
    "    if head is not None:\n",
    "        p = head\n",
    "        while p is not None:\n",
    "            q = p.next\n",
    "            while q is not None:\n",
    "                if q.data < p.data :\n",
    "                    temp = p.data\n",
    "                    p.data = q.data\n",
    "                    q.data = temp\n",
    "                q = q.next\n",
    "            p = p.next\n",
    "    else:\n",
    "        print(\"Linklist is empty!\")\n",
    "    return head"
   ]
  },
  {
   "cell_type": "code",
   "execution_count": 96,
   "metadata": {},
   "outputs": [
    {
     "name": "stdout",
     "output_type": "stream",
     "text": [
      "70\n",
      "60\n",
      "80\n",
      "90\n",
      "40\n",
      "50\n",
      "20\n",
      "30\n"
     ]
    }
   ],
   "source": [
    "head = None\n",
    "\n",
    "head = prepend(head,30)\n",
    "head = prepend(head,20)\n",
    "head = prepend(head,50)\n",
    "head = prepend(head,40)\n",
    "head = prepend(head,90)\n",
    "head = prepend(head,80)\n",
    "head = prepend(head,60)\n",
    "head = prepend(head,70)\n",
    "\n",
    "traverse(head)"
   ]
  },
  {
   "cell_type": "code",
   "execution_count": 98,
   "metadata": {},
   "outputs": [
    {
     "name": "stdout",
     "output_type": "stream",
     "text": [
      "20\n",
      "30\n",
      "40\n",
      "50\n",
      "60\n",
      "70\n",
      "80\n",
      "90\n"
     ]
    }
   ],
   "source": [
    "head = sort(head)\n",
    "traverse(head)"
   ]
  },
  {
   "cell_type": "markdown",
   "metadata": {},
   "source": [
    "## Count nodes"
   ]
  },
  {
   "cell_type": "code",
   "execution_count": 45,
   "metadata": {},
   "outputs": [
    {
     "name": "stdout",
     "output_type": "stream",
     "text": [
      "70\n",
      "60\n",
      "80\n",
      "90\n",
      "40\n",
      "50\n",
      "20\n",
      "30\n",
      "Number of nodes : 8\n"
     ]
    }
   ],
   "source": [
    "#count number of nodes\n",
    "def count(head):\n",
    "    cnt=0\n",
    "    p=head\n",
    "    while p is not None:\n",
    "        cnt+=1\n",
    "        p=p.next\n",
    "    return cnt\n",
    "\n",
    "head = None\n",
    "\n",
    "head = prepend(head,30)\n",
    "head = prepend(head,20)\n",
    "head = prepend(head,50)\n",
    "head = prepend(head,40)\n",
    "head = prepend(head,90)\n",
    "head = prepend(head,80)\n",
    "head = prepend(head,60)\n",
    "head = prepend(head,70)\n",
    "\n",
    "traverse(head)\n",
    "cnt = count(head)\n",
    "print(\"Number of nodes : \"+str(cnt))"
   ]
  },
  {
   "cell_type": "markdown",
   "metadata": {},
   "source": [
    "## Reverse link list"
   ]
  },
  {
   "cell_type": "code",
   "execution_count": 49,
   "metadata": {},
   "outputs": [],
   "source": [
    "#reverse link list \n",
    "def reverse(head):\n",
    "    if head is None:\n",
    "        print(\"Sorry, link list is empty !\")\n",
    "    else:\n",
    "        prev = None\n",
    "        current = head\n",
    "        while current is not None:\n",
    "            next = current.next\n",
    "            current.next = prev\n",
    "            prev = current\n",
    "            current = next\n",
    "        head = prev\n",
    "        return head\n",
    "        "
   ]
  },
  {
   "cell_type": "code",
   "execution_count": 50,
   "metadata": {},
   "outputs": [
    {
     "name": "stdout",
     "output_type": "stream",
     "text": [
      "Before reverse :\n",
      "70\n",
      "60\n",
      "80\n",
      "90\n",
      "40\n",
      "50\n",
      "20\n",
      "30\n",
      "After reverse :\n",
      "30\n",
      "20\n",
      "50\n",
      "40\n",
      "90\n",
      "80\n",
      "60\n",
      "70\n"
     ]
    }
   ],
   "source": [
    "head = None\n",
    "\n",
    "head = prepend(head,30)\n",
    "head = prepend(head,20)\n",
    "head = prepend(head,50)\n",
    "head = prepend(head,40)\n",
    "head = prepend(head,90)\n",
    "head = prepend(head,80)\n",
    "head = prepend(head,60)\n",
    "head = prepend(head,70)\n",
    "\n",
    "print(\"Before reverse :\")\n",
    "traverse(head)\n",
    "print(\"After reverse :\")\n",
    "head = reverse(head)\n",
    "traverse(head)"
   ]
  },
  {
   "cell_type": "markdown",
   "metadata": {},
   "source": [
    "# Complete Code Of Singly Link List"
   ]
  },
  {
   "cell_type": "code",
   "execution_count": 83,
   "metadata": {},
   "outputs": [],
   "source": [
    "class ListNode:\n",
    "    def __init__(self,data):\n",
    "        self.data = data\n",
    "        self.next = None\n",
    "\n",
    "\n",
    "class LinkedList:\n",
    "    def __init__(self):\n",
    "        self.head = None\n",
    "        \n",
    "    #traversing link list\n",
    "    def traverse(self):\n",
    "        if self.head is None:\n",
    "            print(\"link list is empty !\")\n",
    "            return\n",
    "        else:\n",
    "            p = self.head\n",
    "            while p is not None :\n",
    "                print(p.data)\n",
    "                p = p.next\n",
    "                \n",
    "    #insert at the end of link list\n",
    "    def append(self,item):\n",
    "        newNode = ListNode(item)\n",
    "        if self.head is None:\n",
    "            self.head = newNode\n",
    "        else:\n",
    "            p = self.head\n",
    "            while p.next is not None:\n",
    "                p = p.next\n",
    "            p.next = newNode\n",
    "    \n",
    "    #insert element at the begining of nodes\n",
    "    def prepend(self,item):\n",
    "        newNode = ListNode(item)\n",
    "        newNode.next = self.head\n",
    "        self.head = newNode\n",
    "    \n",
    "    #delete node with given data\n",
    "    def remove(self,data):\n",
    "        p = self.head\n",
    "        prev = None\n",
    "        #if link list is empty\n",
    "        if self.head is None:\n",
    "            print(\"Link list is empty ! cannot delete...\")\n",
    "            return \n",
    "        #if head is is to be deleted\n",
    "        elif self.head.data == data:\n",
    "            self.head = self.head.next\n",
    "            print(str(data)+\" is deleted !\")\n",
    "            return \n",
    "        while p is not None and p.data != data:\n",
    "            prev = p\n",
    "            p = p.next\n",
    "        if p is None :\n",
    "            print(\"Node not found!\")\n",
    "            return \n",
    "        else:\n",
    "            prev.next = p.next\n",
    "            print(str(data)+\" is deleted !\")\n",
    "\n",
    "        \n",
    "    #Searching element\n",
    "    def search(self, item):\n",
    "        if self.head is not None:\n",
    "            p = self.head\n",
    "            while p is not None and p.data != item  :\n",
    "                p = p.next\n",
    "            if p is None :\n",
    "                print(str(item)+\" is not present in list !\")\n",
    "            else:\n",
    "                print(str(item)+\" is present in list .\")\n",
    "        else:\n",
    "            print(\"Linklist is empty!\")\n",
    "            \n",
    "    #sorting linklist\n",
    "    def sort(self):\n",
    "        if self.head is not None:\n",
    "            p = self.head\n",
    "            while p is not None:\n",
    "                q = p.next\n",
    "                while q is not None:\n",
    "                    if q.data < p.data :\n",
    "                        temp = p.data\n",
    "                        p.data = q.data\n",
    "                        q.data = temp\n",
    "                    q = q.next\n",
    "                p = p.next\n",
    "        else:\n",
    "            print(\"Linklist is empty!\")\n",
    "     \n",
    "    #count number of nodes\n",
    "    def count(self):\n",
    "        cnt=0\n",
    "        p=self.head\n",
    "        while p is not None:\n",
    "            cnt +=1\n",
    "            p=p.next\n",
    "        return cnt\n",
    "    \n",
    "    #reverse link list \n",
    "    def reverse(self):\n",
    "        if self.head is None:\n",
    "            print(\"Sorry, link list is empty !\")\n",
    "        else:\n",
    "            prev = None\n",
    "            current = self.head\n",
    "            while current is not None:\n",
    "                next = current.next\n",
    "                current.next = prev\n",
    "                prev = current\n",
    "                current = next\n",
    "            self.head = prev\n",
    "         \n",
    "    #delete node at particular location\n",
    "    def delete_loc(self,location):\n",
    "        size = self.count()\n",
    "        if self.head is None:\n",
    "            print(\"Link list is empty , cannot delete...\")\n",
    "            return \n",
    "        \n",
    "        if location > size or location < 1:\n",
    "            print(\"Please enter correct location !\")\n",
    "            return\n",
    "        else:\n",
    "            cnt = 1\n",
    "            p = self.head \n",
    "            #if head is to be deleted\n",
    "            if location == 1 :\n",
    "                x= self.head.data\n",
    "                self.head = self.head.next\n",
    "                print(str(x)+\" is deleted!\")\n",
    "                return\n",
    "            while cnt != location -1 :\n",
    "                p=p.next\n",
    "                cnt = cnt +1\n",
    "            if p.next.next is not None:\n",
    "                print(str(p.next.data)+\" is deleted !\")\n",
    "                p.next = p.next.next\n",
    "            else :\n",
    "                print(str(p.next.data)+\" is deleted !\")\n",
    "                p.next = None\n",
    "                \n",
    "    #insert at location\n",
    "    def insert_loc(self,data,loc):\n",
    "        size = self.count()\n",
    "        if loc > size+1 or loc < 1:\n",
    "            print(\"Please enter correct location !\")\n",
    "            return\n",
    "        else:\n",
    "            cnt = 1\n",
    "            p = self.head\n",
    "            newNode = ListNode(data)\n",
    "            #if location is 1\n",
    "            if loc == 1:\n",
    "                newNode.next = self.head\n",
    "                self.head = newNode\n",
    "            else:\n",
    "                while cnt < loc-1 and p is not None:\n",
    "                    cnt =cnt+1\n",
    "                    p = p.next\n",
    "                if p.next is not None:\n",
    "                    newNode.next = p.next\n",
    "                    p.next = newNode\n",
    "                else:\n",
    "                    newNode.next = None\n",
    "                    p.next = newNode\n",
    "                    \n",
    "                "
   ]
  },
  {
   "cell_type": "code",
   "execution_count": 84,
   "metadata": {},
   "outputs": [
    {
     "name": "stdout",
     "output_type": "stream",
     "text": [
      "-------------------------------------------------------------------------------------\n",
      "\n",
      "                 Singly Link List Operations \n",
      "1.Insert Front\n",
      "2.Insert Rear\n",
      "3.Insert at location\n",
      "4.Delete Node with data\n",
      "5.Delete Node at location\n",
      "6.Search\n",
      "7.Sort\n",
      "8.Traverse\n",
      "9.Count nodes\n",
      "10.Reverse \n",
      "11.Exit\n",
      "\n",
      "         Select operation : 3\n",
      "\n",
      " Enter the location to insert node : 1\n",
      "\n",
      " Enter the data : 2\n",
      "-------------------------------------------------------------------------------------\n",
      "\n",
      "                 Singly Link List Operations \n",
      "1.Insert Front\n",
      "2.Insert Rear\n",
      "3.Insert at location\n",
      "4.Delete Node with data\n",
      "5.Delete Node at location\n",
      "6.Search\n",
      "7.Sort\n",
      "8.Traverse\n",
      "9.Count nodes\n",
      "10.Reverse \n",
      "11.Exit\n",
      "\n",
      "         Select operation : 8\n",
      "\n",
      " Link list :\n",
      "2\n",
      "-------------------------------------------------------------------------------------\n",
      "\n",
      "                 Singly Link List Operations \n",
      "1.Insert Front\n",
      "2.Insert Rear\n",
      "3.Insert at location\n",
      "4.Delete Node with data\n",
      "5.Delete Node at location\n",
      "6.Search\n",
      "7.Sort\n",
      "8.Traverse\n",
      "9.Count nodes\n",
      "10.Reverse \n",
      "11.Exit\n"
     ]
    },
    {
     "ename": "KeyboardInterrupt",
     "evalue": "",
     "output_type": "error",
     "traceback": [
      "\u001b[0;31m---------------------------------------------------------------------------\u001b[0m",
      "\u001b[0;31mKeyboardInterrupt\u001b[0m                         Traceback (most recent call last)",
      "\u001b[0;32m~/anaconda3/lib/python3.7/site-packages/ipykernel/kernelbase.py\u001b[0m in \u001b[0;36m_input_request\u001b[0;34m(self, prompt, ident, parent, password)\u001b[0m\n\u001b[1;32m    877\u001b[0m             \u001b[0;32mtry\u001b[0m\u001b[0;34m:\u001b[0m\u001b[0;34m\u001b[0m\u001b[0;34m\u001b[0m\u001b[0m\n\u001b[0;32m--> 878\u001b[0;31m                 \u001b[0mident\u001b[0m\u001b[0;34m,\u001b[0m \u001b[0mreply\u001b[0m \u001b[0;34m=\u001b[0m \u001b[0mself\u001b[0m\u001b[0;34m.\u001b[0m\u001b[0msession\u001b[0m\u001b[0;34m.\u001b[0m\u001b[0mrecv\u001b[0m\u001b[0;34m(\u001b[0m\u001b[0mself\u001b[0m\u001b[0;34m.\u001b[0m\u001b[0mstdin_socket\u001b[0m\u001b[0;34m,\u001b[0m \u001b[0;36m0\u001b[0m\u001b[0;34m)\u001b[0m\u001b[0;34m\u001b[0m\u001b[0;34m\u001b[0m\u001b[0m\n\u001b[0m\u001b[1;32m    879\u001b[0m             \u001b[0;32mexcept\u001b[0m \u001b[0mException\u001b[0m\u001b[0;34m:\u001b[0m\u001b[0;34m\u001b[0m\u001b[0;34m\u001b[0m\u001b[0m\n",
      "\u001b[0;32m~/anaconda3/lib/python3.7/site-packages/jupyter_client/session.py\u001b[0m in \u001b[0;36mrecv\u001b[0;34m(self, socket, mode, content, copy)\u001b[0m\n\u001b[1;32m    802\u001b[0m         \u001b[0;32mtry\u001b[0m\u001b[0;34m:\u001b[0m\u001b[0;34m\u001b[0m\u001b[0;34m\u001b[0m\u001b[0m\n\u001b[0;32m--> 803\u001b[0;31m             \u001b[0mmsg_list\u001b[0m \u001b[0;34m=\u001b[0m \u001b[0msocket\u001b[0m\u001b[0;34m.\u001b[0m\u001b[0mrecv_multipart\u001b[0m\u001b[0;34m(\u001b[0m\u001b[0mmode\u001b[0m\u001b[0;34m,\u001b[0m \u001b[0mcopy\u001b[0m\u001b[0;34m=\u001b[0m\u001b[0mcopy\u001b[0m\u001b[0;34m)\u001b[0m\u001b[0;34m\u001b[0m\u001b[0;34m\u001b[0m\u001b[0m\n\u001b[0m\u001b[1;32m    804\u001b[0m         \u001b[0;32mexcept\u001b[0m \u001b[0mzmq\u001b[0m\u001b[0;34m.\u001b[0m\u001b[0mZMQError\u001b[0m \u001b[0;32mas\u001b[0m \u001b[0me\u001b[0m\u001b[0;34m:\u001b[0m\u001b[0;34m\u001b[0m\u001b[0;34m\u001b[0m\u001b[0m\n",
      "\u001b[0;32m~/anaconda3/lib/python3.7/site-packages/zmq/sugar/socket.py\u001b[0m in \u001b[0;36mrecv_multipart\u001b[0;34m(self, flags, copy, track)\u001b[0m\n\u001b[1;32m    469\u001b[0m         \"\"\"\n\u001b[0;32m--> 470\u001b[0;31m         \u001b[0mparts\u001b[0m \u001b[0;34m=\u001b[0m \u001b[0;34m[\u001b[0m\u001b[0mself\u001b[0m\u001b[0;34m.\u001b[0m\u001b[0mrecv\u001b[0m\u001b[0;34m(\u001b[0m\u001b[0mflags\u001b[0m\u001b[0;34m,\u001b[0m \u001b[0mcopy\u001b[0m\u001b[0;34m=\u001b[0m\u001b[0mcopy\u001b[0m\u001b[0;34m,\u001b[0m \u001b[0mtrack\u001b[0m\u001b[0;34m=\u001b[0m\u001b[0mtrack\u001b[0m\u001b[0;34m)\u001b[0m\u001b[0;34m]\u001b[0m\u001b[0;34m\u001b[0m\u001b[0;34m\u001b[0m\u001b[0m\n\u001b[0m\u001b[1;32m    471\u001b[0m         \u001b[0;31m# have first part already, only loop while more to receive\u001b[0m\u001b[0;34m\u001b[0m\u001b[0;34m\u001b[0m\u001b[0;34m\u001b[0m\u001b[0m\n",
      "\u001b[0;32mzmq/backend/cython/socket.pyx\u001b[0m in \u001b[0;36mzmq.backend.cython.socket.Socket.recv\u001b[0;34m()\u001b[0m\n",
      "\u001b[0;32mzmq/backend/cython/socket.pyx\u001b[0m in \u001b[0;36mzmq.backend.cython.socket.Socket.recv\u001b[0;34m()\u001b[0m\n",
      "\u001b[0;32mzmq/backend/cython/socket.pyx\u001b[0m in \u001b[0;36mzmq.backend.cython.socket._recv_copy\u001b[0;34m()\u001b[0m\n",
      "\u001b[0;32m~/anaconda3/lib/python3.7/site-packages/zmq/backend/cython/checkrc.pxd\u001b[0m in \u001b[0;36mzmq.backend.cython.checkrc._check_rc\u001b[0;34m()\u001b[0m\n",
      "\u001b[0;31mKeyboardInterrupt\u001b[0m: ",
      "\nDuring handling of the above exception, another exception occurred:\n",
      "\u001b[0;31mKeyboardInterrupt\u001b[0m                         Traceback (most recent call last)",
      "\u001b[0;32m<ipython-input-84-450623e7cb18>\u001b[0m in \u001b[0;36m<module>\u001b[0;34m\u001b[0m\n\u001b[1;32m     16\u001b[0m     \u001b[0mprint\u001b[0m\u001b[0;34m(\u001b[0m\u001b[0;34m\"10.Reverse \"\u001b[0m\u001b[0;34m)\u001b[0m\u001b[0;34m\u001b[0m\u001b[0;34m\u001b[0m\u001b[0m\n\u001b[1;32m     17\u001b[0m     \u001b[0mprint\u001b[0m\u001b[0;34m(\u001b[0m\u001b[0;34m\"11.Exit\"\u001b[0m\u001b[0;34m)\u001b[0m\u001b[0;34m\u001b[0m\u001b[0;34m\u001b[0m\u001b[0m\n\u001b[0;32m---> 18\u001b[0;31m     \u001b[0mchoice\u001b[0m\u001b[0;34m=\u001b[0m \u001b[0mint\u001b[0m\u001b[0;34m(\u001b[0m\u001b[0minput\u001b[0m\u001b[0;34m(\u001b[0m\u001b[0;34m\"\\n         Select operation : \"\u001b[0m\u001b[0;34m)\u001b[0m\u001b[0;34m)\u001b[0m\u001b[0;34m\u001b[0m\u001b[0;34m\u001b[0m\u001b[0m\n\u001b[0m\u001b[1;32m     19\u001b[0m \u001b[0;34m\u001b[0m\u001b[0m\n\u001b[1;32m     20\u001b[0m     \u001b[0;32mif\u001b[0m \u001b[0mchoice\u001b[0m \u001b[0;34m==\u001b[0m \u001b[0;36m1\u001b[0m\u001b[0;34m:\u001b[0m\u001b[0;34m\u001b[0m\u001b[0;34m\u001b[0m\u001b[0m\n",
      "\u001b[0;32m~/anaconda3/lib/python3.7/site-packages/ipykernel/kernelbase.py\u001b[0m in \u001b[0;36mraw_input\u001b[0;34m(self, prompt)\u001b[0m\n\u001b[1;32m    851\u001b[0m             \u001b[0mself\u001b[0m\u001b[0;34m.\u001b[0m\u001b[0m_parent_ident\u001b[0m\u001b[0;34m,\u001b[0m\u001b[0;34m\u001b[0m\u001b[0;34m\u001b[0m\u001b[0m\n\u001b[1;32m    852\u001b[0m             \u001b[0mself\u001b[0m\u001b[0;34m.\u001b[0m\u001b[0m_parent_header\u001b[0m\u001b[0;34m,\u001b[0m\u001b[0;34m\u001b[0m\u001b[0;34m\u001b[0m\u001b[0m\n\u001b[0;32m--> 853\u001b[0;31m             \u001b[0mpassword\u001b[0m\u001b[0;34m=\u001b[0m\u001b[0;32mFalse\u001b[0m\u001b[0;34m,\u001b[0m\u001b[0;34m\u001b[0m\u001b[0;34m\u001b[0m\u001b[0m\n\u001b[0m\u001b[1;32m    854\u001b[0m         )\n\u001b[1;32m    855\u001b[0m \u001b[0;34m\u001b[0m\u001b[0m\n",
      "\u001b[0;32m~/anaconda3/lib/python3.7/site-packages/ipykernel/kernelbase.py\u001b[0m in \u001b[0;36m_input_request\u001b[0;34m(self, prompt, ident, parent, password)\u001b[0m\n\u001b[1;32m    881\u001b[0m             \u001b[0;32mexcept\u001b[0m \u001b[0mKeyboardInterrupt\u001b[0m\u001b[0;34m:\u001b[0m\u001b[0;34m\u001b[0m\u001b[0;34m\u001b[0m\u001b[0m\n\u001b[1;32m    882\u001b[0m                 \u001b[0;31m# re-raise KeyboardInterrupt, to truncate traceback\u001b[0m\u001b[0;34m\u001b[0m\u001b[0;34m\u001b[0m\u001b[0;34m\u001b[0m\u001b[0m\n\u001b[0;32m--> 883\u001b[0;31m                 \u001b[0;32mraise\u001b[0m \u001b[0mKeyboardInterrupt\u001b[0m\u001b[0;34m\u001b[0m\u001b[0;34m\u001b[0m\u001b[0m\n\u001b[0m\u001b[1;32m    884\u001b[0m             \u001b[0;32melse\u001b[0m\u001b[0;34m:\u001b[0m\u001b[0;34m\u001b[0m\u001b[0;34m\u001b[0m\u001b[0m\n\u001b[1;32m    885\u001b[0m                 \u001b[0;32mbreak\u001b[0m\u001b[0;34m\u001b[0m\u001b[0;34m\u001b[0m\u001b[0m\n",
      "\u001b[0;31mKeyboardInterrupt\u001b[0m: "
     ]
    }
   ],
   "source": [
    "llist = LinkedList() \n",
    "\n",
    "while True:\n",
    "    print(\"-------------------------------------------------------------------------------------\")\n",
    "    print(\"\\n                 Singly Link List Operations \")\n",
    "\n",
    "    print(\"1.Insert Front\")\n",
    "    print(\"2.Insert Rear\")\n",
    "    print(\"3.Insert at location\")\n",
    "    print(\"4.Delete Node with data\")\n",
    "    print(\"5.Delete Node at location\")\n",
    "    print(\"6.Search\")\n",
    "    print(\"7.Sort\")\n",
    "    print(\"8.Traverse\")\n",
    "    print(\"9.Count nodes\")\n",
    "    print(\"10.Reverse \")\n",
    "    print(\"11.Exit\")\n",
    "    choice= int(input(\"\\n         Select operation : \"))\n",
    "    \n",
    "    if choice == 1:\n",
    "        x = int(input(\"\\n Enter the data : \"))\n",
    "        llist.prepend(x)\n",
    "                    \n",
    "    elif choice == 2:\n",
    "        x = int(input(\"\\n Enter the data : \"))\n",
    "        llist.append(x)\n",
    "    \n",
    "    elif choice == 3:\n",
    "        y = int(input(\"\\n Enter the location to insert node : \"))\n",
    "        x = int(input(\"\\n Enter the data : \"))\n",
    "        llist.insert_loc(x,y)\n",
    "    \n",
    "    elif choice == 4:\n",
    "        x = int(input(\"\\n Enter the data of node to be deleted : \"))\n",
    "        llist.remove(x)\n",
    "                \n",
    "    elif choice == 5:\n",
    "        x = int(input(\"\\n Enter the location of the node to be deleted : \"))\n",
    "        llist.delete_loc(x)\n",
    "        \n",
    "    elif choice == 6:\n",
    "        x = int(input(\"\\n Enter the data to search : \"))\n",
    "        llist.search(x)\n",
    "        \n",
    "    elif choice == 7:\n",
    "        llist.sort()\n",
    "        print(\"\\n Sorted link list :\")\n",
    "        llist.traverse()\n",
    "        \n",
    "    elif choice == 8:\n",
    "        print(\"\\n Link list :\")\n",
    "        llist.traverse()\n",
    "        \n",
    "    elif choice == 9:\n",
    "        cnt = llist.count()\n",
    "        print(\"\\n Number of nodes : \"+str(cnt))\n",
    "        \n",
    "    elif choice == 10:\n",
    "        llist.reverse()\n",
    "        print(\"\\n Reverse link list is : \")\n",
    "        llist.traverse()\n",
    "        \n",
    "    elif choice == 11:\n",
    "        print(\"\\n Thank you !\")\n",
    "        break\n",
    "                   \n",
    "    else:\n",
    "        print(\"\\n Plaese select correct option !\")\n",
    "            \n",
    "    \n"
   ]
  },
  {
   "cell_type": "markdown",
   "metadata": {},
   "source": []
  },
  {
   "cell_type": "code",
   "execution_count": null,
   "metadata": {},
   "outputs": [],
   "source": []
  }
 ],
 "metadata": {
  "kernelspec": {
   "display_name": "Python 3",
   "language": "python",
   "name": "python3"
  },
  "language_info": {
   "codemirror_mode": {
    "name": "ipython",
    "version": 3
   },
   "file_extension": ".py",
   "mimetype": "text/x-python",
   "name": "python",
   "nbconvert_exporter": "python",
   "pygments_lexer": "ipython3",
   "version": "3.7.3"
  }
 },
 "nbformat": 4,
 "nbformat_minor": 2
}
