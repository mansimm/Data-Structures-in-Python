{
 "cells": [
  {
   "cell_type": "code",
   "execution_count": 1,
   "metadata": {},
   "outputs": [],
   "source": [
    "#defining structure of nodes in dubly linklist\n",
    "class ListNode:\n",
    "    def __init__(self,data):\n",
    "        self.data = data\n",
    "        self.next = None\n",
    "        self.prev = None\n"
   ]
  },
  {
   "cell_type": "code",
   "execution_count": 5,
   "metadata": {},
   "outputs": [],
   "source": [
    "def traverse(head):\n",
    "    if head is None:\n",
    "        print(\"Sorry link list is empty !\")\n",
    "    else:\n",
    "        p = head\n",
    "        while p is not None:\n",
    "            print(p.data)\n",
    "            p = p.next"
   ]
  },
  {
   "cell_type": "code",
   "execution_count": 20,
   "metadata": {},
   "outputs": [],
   "source": [
    "def append(head, item):\n",
    "    newnode = ListNode(item)\n",
    "    if head is None:\n",
    "        head = newnode\n",
    "    else:\n",
    "        p = head\n",
    "        while p.next is not None:\n",
    "            p = p.next\n",
    "        p.next = newnode\n",
    "        newnode.prev = p\n",
    "    return head"
   ]
  },
  {
   "cell_type": "code",
   "execution_count": 23,
   "metadata": {},
   "outputs": [
    {
     "name": "stdout",
     "output_type": "stream",
     "text": [
      "Sorry link list is empty !\n"
     ]
    }
   ],
   "source": [
    "head = None\n",
    "traverse(head)"
   ]
  },
  {
   "cell_type": "code",
   "execution_count": 24,
   "metadata": {},
   "outputs": [],
   "source": [
    "head = append(head,10)"
   ]
  },
  {
   "cell_type": "code",
   "execution_count": 25,
   "metadata": {},
   "outputs": [
    {
     "name": "stdout",
     "output_type": "stream",
     "text": [
      "10\n"
     ]
    }
   ],
   "source": [
    "traverse(head)"
   ]
  },
  {
   "cell_type": "code",
   "execution_count": 26,
   "metadata": {},
   "outputs": [],
   "source": [
    "head = append(head,20)"
   ]
  },
  {
   "cell_type": "code",
   "execution_count": 27,
   "metadata": {},
   "outputs": [
    {
     "name": "stdout",
     "output_type": "stream",
     "text": [
      "10\n",
      "20\n"
     ]
    }
   ],
   "source": [
    "traverse(head)"
   ]
  },
  {
   "cell_type": "code",
   "execution_count": 29,
   "metadata": {},
   "outputs": [],
   "source": [
    "def prepend(head,item):\n",
    "    newnode = ListNode(item)\n",
    "    if head is None:\n",
    "        head = newnode\n",
    "    else:\n",
    "        newnode.next = head\n",
    "        head.prev = newnode\n",
    "        head = newnode\n",
    "    return head"
   ]
  },
  {
   "cell_type": "code",
   "execution_count": 30,
   "metadata": {},
   "outputs": [],
   "source": [
    "head = prepend(head,30)\n",
    "head = prepend(head,40)\n",
    "head = prepend(head,50)"
   ]
  },
  {
   "cell_type": "code",
   "execution_count": 31,
   "metadata": {},
   "outputs": [
    {
     "name": "stdout",
     "output_type": "stream",
     "text": [
      "50\n",
      "40\n",
      "30\n",
      "10\n",
      "20\n"
     ]
    }
   ],
   "source": [
    "traverse(head)"
   ]
  },
  {
   "cell_type": "code",
   "execution_count": 47,
   "metadata": {},
   "outputs": [],
   "source": [
    "def remove(head, data):\n",
    "    if head is  None:\n",
    "        print(\"Sorry , list is empty !\")\n",
    "    elif head.data == data:\n",
    "        head = head.next\n",
    "        head.prev = None\n",
    "    else:\n",
    "        p = head\n",
    "        while p is not None and p.data != data:\n",
    "            prevnode = p\n",
    "            p = p.next\n",
    "        if p is None:\n",
    "            print(str(data)+\" is not present in list\")\n",
    "        elif p.next is None:\n",
    "            prevnode.next = None\n",
    "            p.prev = None\n",
    "        else:\n",
    "            prevnode.next = p.next\n",
    "            p.next.prev = prevnode\n",
    "    return head"
   ]
  },
  {
   "cell_type": "code",
   "execution_count": 50,
   "metadata": {},
   "outputs": [
    {
     "name": "stdout",
     "output_type": "stream",
     "text": [
      "80\n",
      "70\n",
      "60\n",
      "50\n",
      "40\n",
      "30\n"
     ]
    }
   ],
   "source": [
    "head = None\n",
    "head = prepend(head,30)\n",
    "head = prepend(head,40)\n",
    "head = prepend(head,50)\n",
    "head = prepend(head,60)\n",
    "head = prepend(head,70)\n",
    "head = prepend(head,80)\n",
    "\n",
    "traverse(head)"
   ]
  },
  {
   "cell_type": "code",
   "execution_count": 51,
   "metadata": {},
   "outputs": [
    {
     "name": "stdout",
     "output_type": "stream",
     "text": [
      "80\n",
      "70\n",
      "60\n",
      "40\n",
      "30\n"
     ]
    }
   ],
   "source": [
    "#deleting from middle\n",
    "head = remove(head,50)\n",
    "traverse(head)"
   ]
  },
  {
   "cell_type": "code",
   "execution_count": 52,
   "metadata": {},
   "outputs": [
    {
     "name": "stdout",
     "output_type": "stream",
     "text": [
      "70\n",
      "60\n",
      "40\n",
      "30\n"
     ]
    }
   ],
   "source": [
    "#delete head\n",
    "head = remove(head,80)\n",
    "traverse(head)"
   ]
  },
  {
   "cell_type": "code",
   "execution_count": 53,
   "metadata": {},
   "outputs": [
    {
     "name": "stdout",
     "output_type": "stream",
     "text": [
      "70\n",
      "60\n",
      "40\n"
     ]
    }
   ],
   "source": [
    "#delete last\n",
    "head = remove(head,30)\n",
    "traverse(head)"
   ]
  },
  {
   "cell_type": "code",
   "execution_count": 57,
   "metadata": {},
   "outputs": [],
   "source": [
    "def search(head ,item):\n",
    "    if head is None:\n",
    "        print(\"Sorry cant find,Link list is empty\")\n",
    "    else:\n",
    "        p = head\n",
    "        while p is not None:\n",
    "            if p.data == item:\n",
    "                print(str(item)+\" is present in doubly link list\")\n",
    "                return\n",
    "            p = p.next\n",
    "        print(str(item)+\" is not prsent in the doubly link list\")"
   ]
  },
  {
   "cell_type": "code",
   "execution_count": 55,
   "metadata": {},
   "outputs": [
    {
     "name": "stdout",
     "output_type": "stream",
     "text": [
      "80\n",
      "70\n",
      "60\n",
      "50\n",
      "40\n",
      "30\n"
     ]
    }
   ],
   "source": [
    "head = None\n",
    "head = prepend(head,30)\n",
    "head = prepend(head,40)\n",
    "head = prepend(head,50)\n",
    "head = prepend(head,60)\n",
    "head = prepend(head,70)\n",
    "head = prepend(head,80)\n",
    "\n",
    "traverse(head)"
   ]
  },
  {
   "cell_type": "code",
   "execution_count": 58,
   "metadata": {},
   "outputs": [
    {
     "name": "stdout",
     "output_type": "stream",
     "text": [
      "100 is not prsent in the doubly link list\n"
     ]
    }
   ],
   "source": [
    "search(head,100)"
   ]
  },
  {
   "cell_type": "code",
   "execution_count": 59,
   "metadata": {},
   "outputs": [
    {
     "name": "stdout",
     "output_type": "stream",
     "text": [
      "80 is present in doubly link list\n"
     ]
    }
   ],
   "source": [
    "search(head,80)"
   ]
  },
  {
   "cell_type": "code",
   "execution_count": 60,
   "metadata": {},
   "outputs": [],
   "source": [
    "#sorting of doubly link list\n",
    "def sort(head):\n",
    "    if head is not None:\n",
    "        p = head\n",
    "        while p is not None:\n",
    "            q = p.next\n",
    "            while q is not None:\n",
    "                if q.data < p.data :\n",
    "                    temp = p.data\n",
    "                    p.data = q.data\n",
    "                    q.data = temp\n",
    "                q = q.next\n",
    "            p = p.next\n",
    "    else:\n",
    "        print(\"Linklist is empty!\")\n",
    "    return head"
   ]
  },
  {
   "cell_type": "code",
   "execution_count": 61,
   "metadata": {},
   "outputs": [
    {
     "name": "stdout",
     "output_type": "stream",
     "text": [
      "80\n",
      "70\n",
      "60\n",
      "50\n",
      "40\n",
      "30\n"
     ]
    }
   ],
   "source": [
    "traverse(head)"
   ]
  },
  {
   "cell_type": "code",
   "execution_count": 62,
   "metadata": {},
   "outputs": [],
   "source": [
    "head = sort(head)"
   ]
  },
  {
   "cell_type": "code",
   "execution_count": 63,
   "metadata": {},
   "outputs": [
    {
     "name": "stdout",
     "output_type": "stream",
     "text": [
      "30\n",
      "40\n",
      "50\n",
      "60\n",
      "70\n",
      "80\n"
     ]
    }
   ],
   "source": [
    "traverse(head)"
   ]
  },
  {
   "cell_type": "code",
   "execution_count": null,
   "metadata": {},
   "outputs": [],
   "source": []
  }
 ],
 "metadata": {
  "kernelspec": {
   "display_name": "Python 3",
   "language": "python",
   "name": "python3"
  },
  "language_info": {
   "codemirror_mode": {
    "name": "ipython",
    "version": 3
   },
   "file_extension": ".py",
   "mimetype": "text/x-python",
   "name": "python",
   "nbconvert_exporter": "python",
   "pygments_lexer": "ipython3",
   "version": "3.7.3"
  }
 },
 "nbformat": 4,
 "nbformat_minor": 2
}
