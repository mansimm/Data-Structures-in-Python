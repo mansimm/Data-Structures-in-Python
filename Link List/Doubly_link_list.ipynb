{
 "cells": [
  {
   "cell_type": "markdown",
   "metadata": {},
   "source": [
    "# Doubly Link List"
   ]
  },
  {
   "cell_type": "markdown",
   "metadata": {},
   "source": [
    "## Defining Node"
   ]
  },
  {
   "cell_type": "code",
   "execution_count": 2,
   "metadata": {},
   "outputs": [],
   "source": [
    "#defining structure of nodes in dubly linklist\n",
    "class ListNode:\n",
    "    def __init__(self,data):\n",
    "        self.data = data\n",
    "        self.next = None\n",
    "        self.prev = None\n"
   ]
  },
  {
   "cell_type": "markdown",
   "metadata": {},
   "source": [
    "## Traversing"
   ]
  },
  {
   "cell_type": "code",
   "execution_count": 3,
   "metadata": {},
   "outputs": [],
   "source": [
    "def traverse(head):\n",
    "    if head is None:\n",
    "        print(\"Sorry link list is empty !\")\n",
    "    else:\n",
    "        p = head\n",
    "        while p is not None:\n",
    "            print(p.data)\n",
    "            p = p.next"
   ]
  },
  {
   "cell_type": "markdown",
   "metadata": {},
   "source": [
    "## Insert at the end"
   ]
  },
  {
   "cell_type": "code",
   "execution_count": 4,
   "metadata": {},
   "outputs": [],
   "source": [
    "def append(head, item):\n",
    "    newnode = ListNode(item)\n",
    "    if head is None:\n",
    "        head = newnode\n",
    "    else:\n",
    "        p = head\n",
    "        while p.next is not None:\n",
    "            p = p.next\n",
    "        p.next = newnode\n",
    "        newnode.prev = p\n",
    "    return head"
   ]
  },
  {
   "cell_type": "code",
   "execution_count": 5,
   "metadata": {},
   "outputs": [
    {
     "name": "stdout",
     "output_type": "stream",
     "text": [
      "Sorry link list is empty !\n"
     ]
    }
   ],
   "source": [
    "head = None\n",
    "traverse(head)"
   ]
  },
  {
   "cell_type": "code",
   "execution_count": 6,
   "metadata": {},
   "outputs": [],
   "source": [
    "head = append(head,10)"
   ]
  },
  {
   "cell_type": "code",
   "execution_count": 7,
   "metadata": {},
   "outputs": [
    {
     "name": "stdout",
     "output_type": "stream",
     "text": [
      "10\n"
     ]
    }
   ],
   "source": [
    "traverse(head)"
   ]
  },
  {
   "cell_type": "code",
   "execution_count": 8,
   "metadata": {},
   "outputs": [],
   "source": [
    "head = append(head,20)"
   ]
  },
  {
   "cell_type": "code",
   "execution_count": 9,
   "metadata": {},
   "outputs": [
    {
     "name": "stdout",
     "output_type": "stream",
     "text": [
      "10\n",
      "20\n"
     ]
    }
   ],
   "source": [
    "traverse(head)"
   ]
  },
  {
   "cell_type": "markdown",
   "metadata": {},
   "source": [
    "## Insert at the begining"
   ]
  },
  {
   "cell_type": "code",
   "execution_count": 10,
   "metadata": {},
   "outputs": [],
   "source": [
    "def prepend(head,item):\n",
    "    newnode = ListNode(item)\n",
    "    if head is None:\n",
    "        head = newnode\n",
    "    else:\n",
    "        newnode.next = head\n",
    "        head.prev = newnode\n",
    "        head = newnode\n",
    "    return head"
   ]
  },
  {
   "cell_type": "code",
   "execution_count": 11,
   "metadata": {},
   "outputs": [],
   "source": [
    "head = prepend(head,30)\n",
    "head = prepend(head,40)\n",
    "head = prepend(head,50)"
   ]
  },
  {
   "cell_type": "code",
   "execution_count": 12,
   "metadata": {},
   "outputs": [
    {
     "name": "stdout",
     "output_type": "stream",
     "text": [
      "50\n",
      "40\n",
      "30\n",
      "10\n",
      "20\n"
     ]
    }
   ],
   "source": [
    "traverse(head)"
   ]
  },
  {
   "cell_type": "markdown",
   "metadata": {},
   "source": [
    "## Deleting node with given data"
   ]
  },
  {
   "cell_type": "code",
   "execution_count": 13,
   "metadata": {},
   "outputs": [],
   "source": [
    "def remove(head, data):\n",
    "    if head is  None:\n",
    "        print(\"Sorry , list is empty !\")\n",
    "    elif head.data == data:\n",
    "        head = head.next\n",
    "        head.prev = None\n",
    "    else:\n",
    "        p = head\n",
    "        while p is not None and p.data != data:\n",
    "            prevnode = p\n",
    "            p = p.next\n",
    "        if p is None:\n",
    "            print(str(data)+\" is not present in list\")\n",
    "        elif p.next is None:\n",
    "            prevnode.next = None\n",
    "            p.prev = None\n",
    "        else:\n",
    "            prevnode.next = p.next\n",
    "            p.next.prev = prevnode\n",
    "    return head"
   ]
  },
  {
   "cell_type": "code",
   "execution_count": 14,
   "metadata": {},
   "outputs": [
    {
     "name": "stdout",
     "output_type": "stream",
     "text": [
      "80\n",
      "70\n",
      "60\n",
      "50\n",
      "40\n",
      "30\n"
     ]
    }
   ],
   "source": [
    "head = None\n",
    "head = prepend(head,30)\n",
    "head = prepend(head,40)\n",
    "head = prepend(head,50)\n",
    "head = prepend(head,60)\n",
    "head = prepend(head,70)\n",
    "head = prepend(head,80)\n",
    "\n",
    "traverse(head)"
   ]
  },
  {
   "cell_type": "code",
   "execution_count": 15,
   "metadata": {},
   "outputs": [
    {
     "name": "stdout",
     "output_type": "stream",
     "text": [
      "80\n",
      "70\n",
      "60\n",
      "40\n",
      "30\n"
     ]
    }
   ],
   "source": [
    "#deleting from middle\n",
    "head = remove(head,50)\n",
    "traverse(head)"
   ]
  },
  {
   "cell_type": "code",
   "execution_count": 16,
   "metadata": {},
   "outputs": [
    {
     "name": "stdout",
     "output_type": "stream",
     "text": [
      "70\n",
      "60\n",
      "40\n",
      "30\n"
     ]
    }
   ],
   "source": [
    "#delete head\n",
    "head = remove(head,80)\n",
    "traverse(head)"
   ]
  },
  {
   "cell_type": "code",
   "execution_count": 17,
   "metadata": {},
   "outputs": [
    {
     "name": "stdout",
     "output_type": "stream",
     "text": [
      "70\n",
      "60\n",
      "40\n"
     ]
    }
   ],
   "source": [
    "#delete last\n",
    "head = remove(head,30)\n",
    "traverse(head)"
   ]
  },
  {
   "cell_type": "markdown",
   "metadata": {},
   "source": [
    "## Search Node"
   ]
  },
  {
   "cell_type": "code",
   "execution_count": 18,
   "metadata": {},
   "outputs": [],
   "source": [
    "def search(head ,item):\n",
    "    if head is None:\n",
    "        print(\"Sorry cant find,Link list is empty\")\n",
    "    else:\n",
    "        p = head\n",
    "        while p is not None:\n",
    "            if p.data == item:\n",
    "                print(str(item)+\" is present in doubly link list\")\n",
    "                return\n",
    "            p = p.next\n",
    "        print(str(item)+\" is not prsent in the doubly link list\")"
   ]
  },
  {
   "cell_type": "code",
   "execution_count": 19,
   "metadata": {},
   "outputs": [
    {
     "name": "stdout",
     "output_type": "stream",
     "text": [
      "80\n",
      "70\n",
      "60\n",
      "50\n",
      "40\n",
      "30\n"
     ]
    }
   ],
   "source": [
    "head = None\n",
    "head = prepend(head,30)\n",
    "head = prepend(head,40)\n",
    "head = prepend(head,50)\n",
    "head = prepend(head,60)\n",
    "head = prepend(head,70)\n",
    "head = prepend(head,80)\n",
    "\n",
    "traverse(head)"
   ]
  },
  {
   "cell_type": "code",
   "execution_count": 20,
   "metadata": {},
   "outputs": [
    {
     "name": "stdout",
     "output_type": "stream",
     "text": [
      "100 is not prsent in the doubly link list\n"
     ]
    }
   ],
   "source": [
    "search(head,100)"
   ]
  },
  {
   "cell_type": "code",
   "execution_count": 21,
   "metadata": {},
   "outputs": [
    {
     "name": "stdout",
     "output_type": "stream",
     "text": [
      "80 is present in doubly link list\n"
     ]
    }
   ],
   "source": [
    "search(head,80)"
   ]
  },
  {
   "cell_type": "markdown",
   "metadata": {},
   "source": [
    "## Sort data using buuble sort"
   ]
  },
  {
   "cell_type": "code",
   "execution_count": 22,
   "metadata": {},
   "outputs": [],
   "source": [
    "#sorting of doubly link list\n",
    "def sort(head):\n",
    "    if head is not None:\n",
    "        p = head\n",
    "        while p is not None:\n",
    "            q = p.next\n",
    "            while q is not None:\n",
    "                if q.data < p.data :\n",
    "                    temp = p.data\n",
    "                    p.data = q.data\n",
    "                    q.data = temp\n",
    "                q = q.next\n",
    "            p = p.next\n",
    "    else:\n",
    "        print(\"Linklist is empty!\")\n",
    "    return head"
   ]
  },
  {
   "cell_type": "code",
   "execution_count": 23,
   "metadata": {},
   "outputs": [
    {
     "name": "stdout",
     "output_type": "stream",
     "text": [
      "80\n",
      "70\n",
      "60\n",
      "50\n",
      "40\n",
      "30\n"
     ]
    }
   ],
   "source": [
    "traverse(head)"
   ]
  },
  {
   "cell_type": "code",
   "execution_count": 24,
   "metadata": {},
   "outputs": [],
   "source": [
    "head = sort(head)"
   ]
  },
  {
   "cell_type": "code",
   "execution_count": 25,
   "metadata": {},
   "outputs": [
    {
     "name": "stdout",
     "output_type": "stream",
     "text": [
      "30\n",
      "40\n",
      "50\n",
      "60\n",
      "70\n",
      "80\n"
     ]
    }
   ],
   "source": [
    "traverse(head)"
   ]
  },
  {
   "cell_type": "markdown",
   "metadata": {},
   "source": [
    "## Count total number of nodes"
   ]
  },
  {
   "cell_type": "code",
   "execution_count": 26,
   "metadata": {},
   "outputs": [
    {
     "name": "stdout",
     "output_type": "stream",
     "text": [
      "70\n",
      "60\n",
      "80\n",
      "90\n",
      "40\n",
      "50\n",
      "20\n",
      "30\n",
      "Number of nodes : 8\n"
     ]
    }
   ],
   "source": [
    "#count number of nodes\n",
    "def count(head):\n",
    "    cnt=0\n",
    "    p=head\n",
    "    while p is not None:\n",
    "        cnt+=1\n",
    "        p=p.next\n",
    "    return cnt\n",
    "\n",
    "head = None\n",
    "\n",
    "head = prepend(head,30)\n",
    "head = prepend(head,20)\n",
    "head = prepend(head,50)\n",
    "head = prepend(head,40)\n",
    "head = prepend(head,90)\n",
    "head = prepend(head,80)\n",
    "head = prepend(head,60)\n",
    "head = prepend(head,70)\n",
    "\n",
    "traverse(head)\n",
    "cnt = count(head)\n",
    "print(\"Number of nodes : \"+str(cnt))"
   ]
  },
  {
   "cell_type": "markdown",
   "metadata": {},
   "source": [
    "## Reverse Link List"
   ]
  },
  {
   "cell_type": "code",
   "execution_count": 73,
   "metadata": {},
   "outputs": [
    {
     "name": "stdout",
     "output_type": "stream",
     "text": [
      "Before reverse :\n",
      "70\n",
      "60\n",
      "80\n",
      "90\n",
      "40\n",
      "50\n",
      "20\n",
      "30\n",
      "After reverse :\n",
      "30\n",
      "20\n",
      "50\n",
      "40\n",
      "90\n",
      "80\n",
      "60\n",
      "70\n"
     ]
    }
   ],
   "source": [
    "def reverse(head): \n",
    "    temp = None\n",
    "    current = head           \n",
    "    # Swap next and prev for all nodes of  \n",
    "    # doubly linked list \n",
    "    while current is not None: \n",
    "        temp = current.prev  \n",
    "        current.prev = current.next\n",
    "        current.next = temp \n",
    "        current = current.prev \n",
    "    # Before changing head, check for the cases like  \n",
    "    # empty list and list with only one node \n",
    "    if temp is not None: \n",
    "        head = temp.prev \n",
    "    return head\n",
    "        \n",
    "head = None\n",
    "\n",
    "head = prepend(head,30)\n",
    "head = prepend(head,20)\n",
    "head = prepend(head,50)\n",
    "head = prepend(head,40)\n",
    "head = prepend(head,90)\n",
    "head = prepend(head,80)\n",
    "head = prepend(head,60)\n",
    "head = prepend(head,70)\n",
    "print(\"Before reverse :\")\n",
    "traverse(head)\n",
    "head = reverse(head)\n",
    "print(\"After reverse :\")\n",
    "traverse(head)\n"
   ]
  },
  {
   "cell_type": "markdown",
   "metadata": {},
   "source": [
    "# Complete code for Doubly Link List"
   ]
  },
  {
   "cell_type": "code",
   "execution_count": 62,
   "metadata": {},
   "outputs": [],
   "source": [
    "#defining structure of nodes in dubly linklist\n",
    "class ListNode:\n",
    "    def __init__(self,data):\n",
    "        self.data = data\n",
    "        self.next = None\n",
    "        self.prev = None\n",
    "        \n",
    "class LinkedList:\n",
    "    def __init__(self):\n",
    "        self.head = None\n",
    "        \n",
    "    def append(self, item):\n",
    "        newnode = ListNode(item)\n",
    "        if self.head is None:\n",
    "            self.head = newnode\n",
    "        else:\n",
    "            p = self.head\n",
    "            while p.next is not None:\n",
    "                p = p.next\n",
    "            p.next = newnode\n",
    "            newnode.prev = p\n",
    "\n",
    "    def prepend(self,item):\n",
    "        newnode = ListNode(item)\n",
    "        if self.head is None:\n",
    "            self.head = newnode\n",
    "        else:\n",
    "            newnode.next = self.head\n",
    "            self.head.prev = newnode\n",
    "            self.head = newnode\n",
    "            \n",
    "    def traverse(self):\n",
    "        if self.head is None:\n",
    "            print(\"Sorry link list is empty !\")\n",
    "        else:\n",
    "            p = self.head\n",
    "            while p is not None:\n",
    "                print(p.data)\n",
    "                p = p.next\n",
    "\n",
    "    def remove(self, data):\n",
    "        if self.head is  None:\n",
    "            print(\"Sorry , list is empty !\")\n",
    "        elif self.head.data == data:\n",
    "            self.head = self.head.next\n",
    "            self.head.prev = None\n",
    "        else:\n",
    "            p = self.head\n",
    "            while p is not None and p.data != data:\n",
    "                prevnode = p\n",
    "                p = p.next\n",
    "            if p is None:\n",
    "                print(str(data)+\" is not present in list\")\n",
    "            elif p.next is None:\n",
    "                prevnode.next = None\n",
    "                p.prev = None\n",
    "            else:\n",
    "                prevnode.next = p.next\n",
    "                p.next.prev = prevnode\n",
    "    \n",
    "    def search(self ,item):\n",
    "        if self.head is None:\n",
    "            print(\"Sorry cant find,Link list is empty\")\n",
    "        else:\n",
    "            p = self.head\n",
    "            while p is not None:\n",
    "                if p.data == item:\n",
    "                    print(str(item)+\" is present in doubly link list\")\n",
    "                    return\n",
    "                p = p.next\n",
    "            print(str(item)+\" is not prsent in the doubly link list\")\n",
    "\n",
    "    #sorting of doubly link list\n",
    "    def sort(self):\n",
    "        if self.head is not None:\n",
    "            p = self.head\n",
    "            while p is not None:\n",
    "                q = p.next\n",
    "                while q is not None:\n",
    "                    if q.data < p.data :\n",
    "                        temp = p.data\n",
    "                        p.data = q.data\n",
    "                        q.data = temp\n",
    "                    q = q.next\n",
    "                p = p.next\n",
    "        else:\n",
    "            print(\"Linklist is empty!\")\n",
    "    \n",
    "    #count number of nodes\n",
    "    def count(self):\n",
    "        cnt=0\n",
    "        p=self.head\n",
    "        while p is not None:\n",
    "            cnt+=1\n",
    "            p=p.next\n",
    "        return cnt\n",
    "    \n",
    "    #insert at location\n",
    "    def insert_loc(self,data,loc):\n",
    "        size = self.count()\n",
    "        if loc > size+1 or loc < 1:\n",
    "            print(\"Please enter correct location !\")\n",
    "            return\n",
    "        else:\n",
    "            cnt = 1\n",
    "            p = self.head\n",
    "            newNode = ListNode(data)\n",
    "            if self.head is None and loc == 1:\n",
    "                self.head = newNode\n",
    "            #if location is 1\n",
    "            elif loc == 1:\n",
    "                newNode.next = self.head\n",
    "                self.head.prev = newNode\n",
    "                self.head = newNode\n",
    "            else:\n",
    "                while cnt < loc-1 and p is not None:\n",
    "                    cnt =cnt+1\n",
    "                    p = p.next\n",
    "                if p.next is not None:\n",
    "                    newNode.next = p.next\n",
    "                    p.next.prev = newNode\n",
    "                    p.next = newNode\n",
    "                    newNode.prev = p\n",
    "                else:\n",
    "                    newNode.next = None\n",
    "                    newNode.prev = p\n",
    "                    p.next = newNode\n",
    "\n",
    "    #delete node at particular location\n",
    "    def delete_loc(self,location):\n",
    "        size = self.count()\n",
    "        if self.head is None:\n",
    "            print(\" Link list is empty cannot delete.....\")\n",
    "            return\n",
    "        if location > size or location < 1:\n",
    "            print(\" Please enter correct location !\")\n",
    "            return\n",
    "        else:\n",
    "            cnt = 1\n",
    "            p = self.head \n",
    "            #if head is to be deleted\n",
    "            if location == 1 :\n",
    "                x= self.head.data\n",
    "                if head.next is None:\n",
    "                    self.head = None\n",
    "                else:\n",
    "                    self.head = self.head.next\n",
    "                print(str(x)+\" is deleted!\")\n",
    "                return\n",
    "            while cnt != location -1 :\n",
    "                p=p.next\n",
    "                cnt = cnt +1\n",
    "            if p.next.next is not None:\n",
    "                print(str(p.next.data)+\" is deleted !\")\n",
    "                p.next = p.next.next\n",
    "                p.next.prev = p\n",
    "            else :\n",
    "                print(str(p.next.data)+\" is deleted !\")\n",
    "                p.next = None\n",
    "        \n",
    "    def reverse(self): \n",
    "        temp = None\n",
    "        current = self.head \n",
    "          \n",
    "        # Swap next and prev for all nodes of doubly linked list \n",
    "        while current is not None: \n",
    "            temp = current.prev  \n",
    "            current.prev = current.next\n",
    "            current.next = temp \n",
    "            current = current.prev \n",
    "  \n",
    "        # Before changing head, check for the cases like empty list and list with only one node \n",
    "        if temp is not None: \n",
    "            self.head = temp.prev \n",
    "    '''   \n",
    "    def check(self):\n",
    "        p = self.head\n",
    "        while p.next is not None:\n",
    "            print(p.data)\n",
    "            p=p.next\n",
    "        while p is not None:\n",
    "            print(p.data)\n",
    "            p=p.prev\n",
    "    '''   "
   ]
  },
  {
   "cell_type": "code",
   "execution_count": 64,
   "metadata": {},
   "outputs": [
    {
     "name": "stdout",
     "output_type": "stream",
     "text": [
      "-------------------------------------------------------------------------------------\n",
      "\n",
      "                 Doubly Link List Operations \n",
      "1.Insert Front\n",
      "2.Insert Rear\n",
      "3.Insert at location\n",
      "4.Delete Node with data\n",
      "5.Delete Node at location\n",
      "6.Search\n",
      "7.Sort\n",
      "8.Traverse\n",
      "9.Count nodes\n",
      "10.Reverse \n",
      "11.Exit\n",
      "\n",
      "         Select operation : 1\n",
      "\n",
      " Enter the data : 11\n",
      "-------------------------------------------------------------------------------------\n",
      "\n",
      "                 Doubly Link List Operations \n",
      "1.Insert Front\n",
      "2.Insert Rear\n",
      "3.Insert at location\n",
      "4.Delete Node with data\n",
      "5.Delete Node at location\n",
      "6.Search\n",
      "7.Sort\n",
      "8.Traverse\n",
      "9.Count nodes\n",
      "10.Reverse \n",
      "11.Exit\n",
      "\n",
      "         Select operation : 1\n",
      "\n",
      " Enter the data : 22\n",
      "-------------------------------------------------------------------------------------\n",
      "\n",
      "                 Doubly Link List Operations \n",
      "1.Insert Front\n",
      "2.Insert Rear\n",
      "3.Insert at location\n",
      "4.Delete Node with data\n",
      "5.Delete Node at location\n",
      "6.Search\n",
      "7.Sort\n",
      "8.Traverse\n",
      "9.Count nodes\n",
      "10.Reverse \n",
      "11.Exit\n",
      "\n",
      "         Select operation : 2\n",
      "\n",
      " Enter the data : 33\n",
      "-------------------------------------------------------------------------------------\n",
      "\n",
      "                 Doubly Link List Operations \n",
      "1.Insert Front\n",
      "2.Insert Rear\n",
      "3.Insert at location\n",
      "4.Delete Node with data\n",
      "5.Delete Node at location\n",
      "6.Search\n",
      "7.Sort\n",
      "8.Traverse\n",
      "9.Count nodes\n",
      "10.Reverse \n",
      "11.Exit\n",
      "\n",
      "         Select operation : 2\n",
      "\n",
      " Enter the data : 44\n",
      "-------------------------------------------------------------------------------------\n",
      "\n",
      "                 Doubly Link List Operations \n",
      "1.Insert Front\n",
      "2.Insert Rear\n",
      "3.Insert at location\n",
      "4.Delete Node with data\n",
      "5.Delete Node at location\n",
      "6.Search\n",
      "7.Sort\n",
      "8.Traverse\n",
      "9.Count nodes\n",
      "10.Reverse \n",
      "11.Exit\n",
      "\n",
      "         Select operation : 3\n",
      "\n",
      " Enter the location to insert node : 5\n",
      "\n",
      " Enter the data : 99\n",
      "-------------------------------------------------------------------------------------\n",
      "\n",
      "                 Doubly Link List Operations \n",
      "1.Insert Front\n",
      "2.Insert Rear\n",
      "3.Insert at location\n",
      "4.Delete Node with data\n",
      "5.Delete Node at location\n",
      "6.Search\n",
      "7.Sort\n",
      "8.Traverse\n",
      "9.Count nodes\n",
      "10.Reverse \n",
      "11.Exit\n",
      "\n",
      "         Select operation : 8\n",
      "\n",
      " Link list :\n",
      "22\n",
      "11\n",
      "33\n",
      "44\n",
      "99\n",
      "-------------------------------------------------------------------------------------\n",
      "\n",
      "                 Doubly Link List Operations \n",
      "1.Insert Front\n",
      "2.Insert Rear\n",
      "3.Insert at location\n",
      "4.Delete Node with data\n",
      "5.Delete Node at location\n",
      "6.Search\n",
      "7.Sort\n",
      "8.Traverse\n",
      "9.Count nodes\n",
      "10.Reverse \n",
      "11.Exit\n",
      "\n",
      "         Select operation : 6\n",
      "\n",
      " Enter the data to search : 100\n",
      "100 is not prsent in the doubly link list\n",
      "-------------------------------------------------------------------------------------\n",
      "\n",
      "                 Doubly Link List Operations \n",
      "1.Insert Front\n",
      "2.Insert Rear\n",
      "3.Insert at location\n",
      "4.Delete Node with data\n",
      "5.Delete Node at location\n",
      "6.Search\n",
      "7.Sort\n",
      "8.Traverse\n",
      "9.Count nodes\n",
      "10.Reverse \n",
      "11.Exit\n",
      "\n",
      "         Select operation : 6\n",
      "\n",
      " Enter the data to search : 11\n",
      "11 is present in doubly link list\n",
      "-------------------------------------------------------------------------------------\n",
      "\n",
      "                 Doubly Link List Operations \n",
      "1.Insert Front\n",
      "2.Insert Rear\n",
      "3.Insert at location\n",
      "4.Delete Node with data\n",
      "5.Delete Node at location\n",
      "6.Search\n",
      "7.Sort\n",
      "8.Traverse\n",
      "9.Count nodes\n",
      "10.Reverse \n",
      "11.Exit\n",
      "\n",
      "         Select operation : 7\n",
      "\n",
      " Sorted link list :\n",
      "11\n",
      "22\n",
      "33\n",
      "44\n",
      "99\n",
      "-------------------------------------------------------------------------------------\n",
      "\n",
      "                 Doubly Link List Operations \n",
      "1.Insert Front\n",
      "2.Insert Rear\n",
      "3.Insert at location\n",
      "4.Delete Node with data\n",
      "5.Delete Node at location\n",
      "6.Search\n",
      "7.Sort\n",
      "8.Traverse\n",
      "9.Count nodes\n",
      "10.Reverse \n",
      "11.Exit\n",
      "\n",
      "         Select operation : 9\n",
      "\n",
      " Number of nodes : 5\n",
      "-------------------------------------------------------------------------------------\n",
      "\n",
      "                 Doubly Link List Operations \n",
      "1.Insert Front\n",
      "2.Insert Rear\n",
      "3.Insert at location\n",
      "4.Delete Node with data\n",
      "5.Delete Node at location\n",
      "6.Search\n",
      "7.Sort\n",
      "8.Traverse\n",
      "9.Count nodes\n",
      "10.Reverse \n",
      "11.Exit\n",
      "\n",
      "         Select operation : 10\n",
      "\n",
      " Reverse link list is : \n",
      "99\n",
      "44\n",
      "33\n",
      "22\n",
      "11\n",
      "-------------------------------------------------------------------------------------\n",
      "\n",
      "                 Doubly Link List Operations \n",
      "1.Insert Front\n",
      "2.Insert Rear\n",
      "3.Insert at location\n",
      "4.Delete Node with data\n",
      "5.Delete Node at location\n",
      "6.Search\n",
      "7.Sort\n",
      "8.Traverse\n",
      "9.Count nodes\n",
      "10.Reverse \n",
      "11.Exit\n",
      "\n",
      "         Select operation : 4\n",
      "\n",
      " Enter the data of node to be deleted : 99\n",
      "-------------------------------------------------------------------------------------\n",
      "\n",
      "                 Doubly Link List Operations \n",
      "1.Insert Front\n",
      "2.Insert Rear\n",
      "3.Insert at location\n",
      "4.Delete Node with data\n",
      "5.Delete Node at location\n",
      "6.Search\n",
      "7.Sort\n",
      "8.Traverse\n",
      "9.Count nodes\n",
      "10.Reverse \n",
      "11.Exit\n",
      "\n",
      "         Select operation : 8\n",
      "\n",
      " Link list :\n",
      "44\n",
      "33\n",
      "22\n",
      "11\n",
      "-------------------------------------------------------------------------------------\n",
      "\n",
      "                 Doubly Link List Operations \n",
      "1.Insert Front\n",
      "2.Insert Rear\n",
      "3.Insert at location\n",
      "4.Delete Node with data\n",
      "5.Delete Node at location\n",
      "6.Search\n",
      "7.Sort\n",
      "8.Traverse\n",
      "9.Count nodes\n",
      "10.Reverse \n",
      "11.Exit\n",
      "\n",
      "         Select operation : 5\n",
      "\n",
      " Enter the location of the node to be deleted : 2\n",
      "33 is deleted !\n",
      "-------------------------------------------------------------------------------------\n",
      "\n",
      "                 Doubly Link List Operations \n",
      "1.Insert Front\n",
      "2.Insert Rear\n",
      "3.Insert at location\n",
      "4.Delete Node with data\n",
      "5.Delete Node at location\n",
      "6.Search\n",
      "7.Sort\n",
      "8.Traverse\n",
      "9.Count nodes\n",
      "10.Reverse \n",
      "11.Exit\n",
      "\n",
      "         Select operation : 8\n",
      "\n",
      " Link list :\n",
      "44\n",
      "22\n",
      "11\n",
      "-------------------------------------------------------------------------------------\n",
      "\n",
      "                 Doubly Link List Operations \n",
      "1.Insert Front\n",
      "2.Insert Rear\n",
      "3.Insert at location\n",
      "4.Delete Node with data\n",
      "5.Delete Node at location\n",
      "6.Search\n",
      "7.Sort\n",
      "8.Traverse\n",
      "9.Count nodes\n",
      "10.Reverse \n",
      "11.Exit\n"
     ]
    },
    {
     "ename": "KeyboardInterrupt",
     "evalue": "",
     "output_type": "error",
     "traceback": [
      "\u001b[0;31m---------------------------------------------------------------------------\u001b[0m",
      "\u001b[0;31mKeyboardInterrupt\u001b[0m                         Traceback (most recent call last)",
      "\u001b[0;32m~/anaconda3/lib/python3.7/site-packages/ipykernel/kernelbase.py\u001b[0m in \u001b[0;36m_input_request\u001b[0;34m(self, prompt, ident, parent, password)\u001b[0m\n\u001b[1;32m    877\u001b[0m             \u001b[0;32mtry\u001b[0m\u001b[0;34m:\u001b[0m\u001b[0;34m\u001b[0m\u001b[0;34m\u001b[0m\u001b[0m\n\u001b[0;32m--> 878\u001b[0;31m                 \u001b[0mident\u001b[0m\u001b[0;34m,\u001b[0m \u001b[0mreply\u001b[0m \u001b[0;34m=\u001b[0m \u001b[0mself\u001b[0m\u001b[0;34m.\u001b[0m\u001b[0msession\u001b[0m\u001b[0;34m.\u001b[0m\u001b[0mrecv\u001b[0m\u001b[0;34m(\u001b[0m\u001b[0mself\u001b[0m\u001b[0;34m.\u001b[0m\u001b[0mstdin_socket\u001b[0m\u001b[0;34m,\u001b[0m \u001b[0;36m0\u001b[0m\u001b[0;34m)\u001b[0m\u001b[0;34m\u001b[0m\u001b[0;34m\u001b[0m\u001b[0m\n\u001b[0m\u001b[1;32m    879\u001b[0m             \u001b[0;32mexcept\u001b[0m \u001b[0mException\u001b[0m\u001b[0;34m:\u001b[0m\u001b[0;34m\u001b[0m\u001b[0;34m\u001b[0m\u001b[0m\n",
      "\u001b[0;32m~/anaconda3/lib/python3.7/site-packages/jupyter_client/session.py\u001b[0m in \u001b[0;36mrecv\u001b[0;34m(self, socket, mode, content, copy)\u001b[0m\n\u001b[1;32m    802\u001b[0m         \u001b[0;32mtry\u001b[0m\u001b[0;34m:\u001b[0m\u001b[0;34m\u001b[0m\u001b[0;34m\u001b[0m\u001b[0m\n\u001b[0;32m--> 803\u001b[0;31m             \u001b[0mmsg_list\u001b[0m \u001b[0;34m=\u001b[0m \u001b[0msocket\u001b[0m\u001b[0;34m.\u001b[0m\u001b[0mrecv_multipart\u001b[0m\u001b[0;34m(\u001b[0m\u001b[0mmode\u001b[0m\u001b[0;34m,\u001b[0m \u001b[0mcopy\u001b[0m\u001b[0;34m=\u001b[0m\u001b[0mcopy\u001b[0m\u001b[0;34m)\u001b[0m\u001b[0;34m\u001b[0m\u001b[0;34m\u001b[0m\u001b[0m\n\u001b[0m\u001b[1;32m    804\u001b[0m         \u001b[0;32mexcept\u001b[0m \u001b[0mzmq\u001b[0m\u001b[0;34m.\u001b[0m\u001b[0mZMQError\u001b[0m \u001b[0;32mas\u001b[0m \u001b[0me\u001b[0m\u001b[0;34m:\u001b[0m\u001b[0;34m\u001b[0m\u001b[0;34m\u001b[0m\u001b[0m\n",
      "\u001b[0;32m~/anaconda3/lib/python3.7/site-packages/zmq/sugar/socket.py\u001b[0m in \u001b[0;36mrecv_multipart\u001b[0;34m(self, flags, copy, track)\u001b[0m\n\u001b[1;32m    469\u001b[0m         \"\"\"\n\u001b[0;32m--> 470\u001b[0;31m         \u001b[0mparts\u001b[0m \u001b[0;34m=\u001b[0m \u001b[0;34m[\u001b[0m\u001b[0mself\u001b[0m\u001b[0;34m.\u001b[0m\u001b[0mrecv\u001b[0m\u001b[0;34m(\u001b[0m\u001b[0mflags\u001b[0m\u001b[0;34m,\u001b[0m \u001b[0mcopy\u001b[0m\u001b[0;34m=\u001b[0m\u001b[0mcopy\u001b[0m\u001b[0;34m,\u001b[0m \u001b[0mtrack\u001b[0m\u001b[0;34m=\u001b[0m\u001b[0mtrack\u001b[0m\u001b[0;34m)\u001b[0m\u001b[0;34m]\u001b[0m\u001b[0;34m\u001b[0m\u001b[0;34m\u001b[0m\u001b[0m\n\u001b[0m\u001b[1;32m    471\u001b[0m         \u001b[0;31m# have first part already, only loop while more to receive\u001b[0m\u001b[0;34m\u001b[0m\u001b[0;34m\u001b[0m\u001b[0;34m\u001b[0m\u001b[0m\n",
      "\u001b[0;32mzmq/backend/cython/socket.pyx\u001b[0m in \u001b[0;36mzmq.backend.cython.socket.Socket.recv\u001b[0;34m()\u001b[0m\n",
      "\u001b[0;32mzmq/backend/cython/socket.pyx\u001b[0m in \u001b[0;36mzmq.backend.cython.socket.Socket.recv\u001b[0;34m()\u001b[0m\n",
      "\u001b[0;32mzmq/backend/cython/socket.pyx\u001b[0m in \u001b[0;36mzmq.backend.cython.socket._recv_copy\u001b[0;34m()\u001b[0m\n",
      "\u001b[0;32m~/anaconda3/lib/python3.7/site-packages/zmq/backend/cython/checkrc.pxd\u001b[0m in \u001b[0;36mzmq.backend.cython.checkrc._check_rc\u001b[0;34m()\u001b[0m\n",
      "\u001b[0;31mKeyboardInterrupt\u001b[0m: ",
      "\nDuring handling of the above exception, another exception occurred:\n",
      "\u001b[0;31mKeyboardInterrupt\u001b[0m                         Traceback (most recent call last)",
      "\u001b[0;32m<ipython-input-64-192f4d9a4070>\u001b[0m in \u001b[0;36m<module>\u001b[0;34m\u001b[0m\n\u001b[1;32m     16\u001b[0m     \u001b[0mprint\u001b[0m\u001b[0;34m(\u001b[0m\u001b[0;34m\"10.Reverse \"\u001b[0m\u001b[0;34m)\u001b[0m\u001b[0;34m\u001b[0m\u001b[0;34m\u001b[0m\u001b[0m\n\u001b[1;32m     17\u001b[0m     \u001b[0mprint\u001b[0m\u001b[0;34m(\u001b[0m\u001b[0;34m\"11.Exit\"\u001b[0m\u001b[0;34m)\u001b[0m\u001b[0;34m\u001b[0m\u001b[0;34m\u001b[0m\u001b[0m\n\u001b[0;32m---> 18\u001b[0;31m     \u001b[0mchoice\u001b[0m\u001b[0;34m=\u001b[0m \u001b[0mint\u001b[0m\u001b[0;34m(\u001b[0m\u001b[0minput\u001b[0m\u001b[0;34m(\u001b[0m\u001b[0;34m\"\\n         Select operation : \"\u001b[0m\u001b[0;34m)\u001b[0m\u001b[0;34m)\u001b[0m\u001b[0;34m\u001b[0m\u001b[0;34m\u001b[0m\u001b[0m\n\u001b[0m\u001b[1;32m     19\u001b[0m \u001b[0;34m\u001b[0m\u001b[0m\n\u001b[1;32m     20\u001b[0m     \u001b[0;32mif\u001b[0m \u001b[0mchoice\u001b[0m \u001b[0;34m==\u001b[0m \u001b[0;36m1\u001b[0m\u001b[0;34m:\u001b[0m\u001b[0;34m\u001b[0m\u001b[0;34m\u001b[0m\u001b[0m\n",
      "\u001b[0;32m~/anaconda3/lib/python3.7/site-packages/ipykernel/kernelbase.py\u001b[0m in \u001b[0;36mraw_input\u001b[0;34m(self, prompt)\u001b[0m\n\u001b[1;32m    851\u001b[0m             \u001b[0mself\u001b[0m\u001b[0;34m.\u001b[0m\u001b[0m_parent_ident\u001b[0m\u001b[0;34m,\u001b[0m\u001b[0;34m\u001b[0m\u001b[0;34m\u001b[0m\u001b[0m\n\u001b[1;32m    852\u001b[0m             \u001b[0mself\u001b[0m\u001b[0;34m.\u001b[0m\u001b[0m_parent_header\u001b[0m\u001b[0;34m,\u001b[0m\u001b[0;34m\u001b[0m\u001b[0;34m\u001b[0m\u001b[0m\n\u001b[0;32m--> 853\u001b[0;31m             \u001b[0mpassword\u001b[0m\u001b[0;34m=\u001b[0m\u001b[0;32mFalse\u001b[0m\u001b[0;34m,\u001b[0m\u001b[0;34m\u001b[0m\u001b[0;34m\u001b[0m\u001b[0m\n\u001b[0m\u001b[1;32m    854\u001b[0m         )\n\u001b[1;32m    855\u001b[0m \u001b[0;34m\u001b[0m\u001b[0m\n",
      "\u001b[0;32m~/anaconda3/lib/python3.7/site-packages/ipykernel/kernelbase.py\u001b[0m in \u001b[0;36m_input_request\u001b[0;34m(self, prompt, ident, parent, password)\u001b[0m\n\u001b[1;32m    881\u001b[0m             \u001b[0;32mexcept\u001b[0m \u001b[0mKeyboardInterrupt\u001b[0m\u001b[0;34m:\u001b[0m\u001b[0;34m\u001b[0m\u001b[0;34m\u001b[0m\u001b[0m\n\u001b[1;32m    882\u001b[0m                 \u001b[0;31m# re-raise KeyboardInterrupt, to truncate traceback\u001b[0m\u001b[0;34m\u001b[0m\u001b[0;34m\u001b[0m\u001b[0;34m\u001b[0m\u001b[0m\n\u001b[0;32m--> 883\u001b[0;31m                 \u001b[0;32mraise\u001b[0m \u001b[0mKeyboardInterrupt\u001b[0m\u001b[0;34m\u001b[0m\u001b[0;34m\u001b[0m\u001b[0m\n\u001b[0m\u001b[1;32m    884\u001b[0m             \u001b[0;32melse\u001b[0m\u001b[0;34m:\u001b[0m\u001b[0;34m\u001b[0m\u001b[0;34m\u001b[0m\u001b[0m\n\u001b[1;32m    885\u001b[0m                 \u001b[0;32mbreak\u001b[0m\u001b[0;34m\u001b[0m\u001b[0;34m\u001b[0m\u001b[0m\n",
      "\u001b[0;31mKeyboardInterrupt\u001b[0m: "
     ]
    }
   ],
   "source": [
    "llist = LinkedList() \n",
    "\n",
    "while True:\n",
    "    print(\"-------------------------------------------------------------------------------------\")\n",
    "    print(\"\\n                 Doubly Link List Operations \")\n",
    "\n",
    "    print(\"1.Insert Front\")\n",
    "    print(\"2.Insert Rear\")\n",
    "    print(\"3.Insert at location\")\n",
    "    print(\"4.Delete Node with data\")\n",
    "    print(\"5.Delete Node at location\")\n",
    "    print(\"6.Search\")\n",
    "    print(\"7.Sort\")\n",
    "    print(\"8.Traverse\")\n",
    "    print(\"9.Count nodes\")\n",
    "    print(\"10.Reverse \")\n",
    "    print(\"11.Exit\")\n",
    "    choice= int(input(\"\\n         Select operation : \"))\n",
    "    \n",
    "    if choice == 1:\n",
    "        x = int(input(\"\\n Enter the data : \"))\n",
    "        llist.prepend(x)\n",
    "                    \n",
    "    elif choice == 2:\n",
    "        x = int(input(\"\\n Enter the data : \"))\n",
    "        llist.append(x)\n",
    "    \n",
    "    elif choice == 3:\n",
    "        y = int(input(\"\\n Enter the location to insert node : \"))\n",
    "        x = int(input(\"\\n Enter the data : \"))\n",
    "        llist.insert_loc(x,y)\n",
    "    \n",
    "    elif choice == 4:\n",
    "        x = int(input(\"\\n Enter the data of node to be deleted : \"))\n",
    "        llist.remove(x)\n",
    "                \n",
    "    elif choice == 5:\n",
    "        x = int(input(\"\\n Enter the location of the node to be deleted : \"))\n",
    "        llist.delete_loc(x)\n",
    "        \n",
    "    elif choice == 6:\n",
    "        x = int(input(\"\\n Enter the data to search : \"))\n",
    "        llist.search(x)\n",
    "        \n",
    "    elif choice == 7:\n",
    "        llist.sort()\n",
    "        print(\"\\n Sorted link list :\")\n",
    "        llist.traverse()\n",
    "        \n",
    "    elif choice == 8:\n",
    "        print(\"\\n Link list :\")\n",
    "        llist.traverse()\n",
    "        \n",
    "    elif choice == 9:\n",
    "        cnt = llist.count()\n",
    "        print(\"\\n Number of nodes : \"+str(cnt))\n",
    "        \n",
    "    elif choice == 10:\n",
    "        llist.reverse()\n",
    "        print(\"\\n Reverse link list is : \")\n",
    "        llist.traverse()\n",
    "        \n",
    "    elif choice == 11:\n",
    "        print(\"\\n Thank you !\")\n",
    "        break\n",
    "        \n",
    "    else:\n",
    "        print(\"\\n Plaese select correct option !\")\n",
    "            \n",
    "    \n"
   ]
  },
  {
   "cell_type": "code",
   "execution_count": null,
   "metadata": {},
   "outputs": [],
   "source": []
  }
 ],
 "metadata": {
  "kernelspec": {
   "display_name": "Python 3",
   "language": "python",
   "name": "python3"
  },
  "language_info": {
   "codemirror_mode": {
    "name": "ipython",
    "version": 3
   },
   "file_extension": ".py",
   "mimetype": "text/x-python",
   "name": "python",
   "nbconvert_exporter": "python",
   "pygments_lexer": "ipython3",
   "version": "3.7.3"
  }
 },
 "nbformat": 4,
 "nbformat_minor": 2
}
