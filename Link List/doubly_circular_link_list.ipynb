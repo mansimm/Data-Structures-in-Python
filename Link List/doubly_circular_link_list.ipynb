{
 "cells": [
  {
   "cell_type": "code",
   "execution_count": 1,
   "metadata": {},
   "outputs": [],
   "source": [
    "#defining structure of nodes in doubly linklist\n",
    "class ListNode:\n",
    "    def __init__(self,data):\n",
    "        self.data = data\n",
    "        self.next = None\n",
    "        self.prev = None\n"
   ]
  },
  {
   "cell_type": "code",
   "execution_count": 2,
   "metadata": {},
   "outputs": [],
   "source": [
    "#traversing link list\n",
    "def traverse(head):\n",
    "    if head is None:\n",
    "        print(\"link list is empty !\")\n",
    "        return\n",
    "    else:\n",
    "        p = head\n",
    "        while p :\n",
    "            print(p.data)\n",
    "            p = p.next\n",
    "            if p == head:\n",
    "                break"
   ]
  },
  {
   "cell_type": "code",
   "execution_count": 9,
   "metadata": {},
   "outputs": [],
   "source": [
    "#insert at the end of link list\n",
    "def append(head,item):\n",
    "    newNode = ListNode(item)\n",
    "    if head is None:\n",
    "        head = newNode\n",
    "        head.next = head\n",
    "        head.prev = head\n",
    "    elif head.next == head :\n",
    "        head.next = newNode\n",
    "        newNode.next = head\n",
    "        head.prev = newNode\n",
    "        newNode.prev = head\n",
    "    else:\n",
    "        p = head\n",
    "        while p.next is not head:\n",
    "            p = p.next\n",
    "        p.next = newNode\n",
    "        newNode.next = head\n",
    "        head.prev = newNode\n",
    "        newNode.prev = head\n",
    "    return head"
   ]
  },
  {
   "cell_type": "code",
   "execution_count": 10,
   "metadata": {},
   "outputs": [
    {
     "name": "stdout",
     "output_type": "stream",
     "text": [
      "link list is empty !\n"
     ]
    }
   ],
   "source": [
    "#traversing empty list\n",
    "head = None\n",
    "traverse(head)"
   ]
  },
  {
   "cell_type": "code",
   "execution_count": 11,
   "metadata": {},
   "outputs": [
    {
     "name": "stdout",
     "output_type": "stream",
     "text": [
      "10\n",
      "20\n",
      "30\n",
      "40\n",
      "50\n"
     ]
    }
   ],
   "source": [
    "head = append(head ,10)\n",
    "head = append(head ,20)\n",
    "head = append(head ,30)\n",
    "head = append(head ,40)\n",
    "head = append(head ,50)\n",
    "traverse(head)"
   ]
  },
  {
   "cell_type": "code",
   "execution_count": 12,
   "metadata": {},
   "outputs": [],
   "source": [
    "def remove(head,data):\n",
    "    p = head\n",
    "    prev = None\n",
    "    #if link list is empty\n",
    "    if head is None:\n",
    "        print(\"Link list is empty ! cannot delete...\")\n",
    "        return head\n",
    "    \n",
    "    #if head is only node in list\n",
    "    elif head.next == head :\n",
    "        if head.data == data:\n",
    "            head = None\n",
    "        else:\n",
    "            print(\"# node not found!\")\n",
    "        return head\n",
    "    #if head is is to be deleted\n",
    "    elif head.data == data:\n",
    "        p=head\n",
    "        while p.next != head:\n",
    "            p = p.next\n",
    "        p.next = head.next\n",
    "        head.next.prev = p\n",
    "        head = head.next\n",
    "        p = None\n",
    "        return head\n",
    "    else:\n",
    "        p = head\n",
    "        while p.data != data:\n",
    "            prev = p\n",
    "            p = p.next\n",
    "            if p is head:\n",
    "                break\n",
    "                \n",
    "        if p.data != data :\n",
    "            print(\"node not found!\")\n",
    "            return head\n",
    "        else:\n",
    "            prev.next = p.next\n",
    "            p.next.prev = prev\n",
    "            p = None\n",
    "            return head\n"
   ]
  },
  {
   "cell_type": "code",
   "execution_count": 13,
   "metadata": {},
   "outputs": [
    {
     "name": "stdout",
     "output_type": "stream",
     "text": [
      "10\n",
      "20\n",
      "30\n",
      "40\n",
      "50\n"
     ]
    }
   ],
   "source": [
    "traverse(head)"
   ]
  },
  {
   "cell_type": "code",
   "execution_count": 14,
   "metadata": {},
   "outputs": [
    {
     "name": "stdout",
     "output_type": "stream",
     "text": [
      "20\n",
      "30\n",
      "40\n",
      "50\n"
     ]
    }
   ],
   "source": [
    "#deleting head\n",
    "head = remove(head,10)\n",
    "traverse(head)"
   ]
  },
  {
   "cell_type": "code",
   "execution_count": 15,
   "metadata": {},
   "outputs": [
    {
     "name": "stdout",
     "output_type": "stream",
     "text": [
      "20\n",
      "30\n",
      "50\n"
     ]
    }
   ],
   "source": [
    "#deleting from middle\n",
    "head = remove(head,40)\n",
    "traverse(head)"
   ]
  },
  {
   "cell_type": "code",
   "execution_count": 16,
   "metadata": {},
   "outputs": [
    {
     "name": "stdout",
     "output_type": "stream",
     "text": [
      "20\n",
      "30\n"
     ]
    }
   ],
   "source": [
    "#delete last\n",
    "head = remove(head,50)\n",
    "traverse(head)"
   ]
  },
  {
   "cell_type": "code",
   "execution_count": 17,
   "metadata": {},
   "outputs": [],
   "source": [
    "#Searching element\n",
    "def search(head, item):\n",
    "    if head is not None:\n",
    "        p = head\n",
    "        while p.data != item  :\n",
    "            p = p.next\n",
    "            if p is head:\n",
    "                break\n",
    "        if p is head and p.data != item :\n",
    "            print(str(item)+\" is not present in list !\")\n",
    "        else:\n",
    "            print(str(item)+\" is present in list .\")\n",
    "    else:\n",
    "        print(\"Linklist is empty!\")"
   ]
  },
  {
   "cell_type": "code",
   "execution_count": 18,
   "metadata": {},
   "outputs": [
    {
     "name": "stdout",
     "output_type": "stream",
     "text": [
      "10\n",
      "20\n",
      "30\n",
      "40\n"
     ]
    }
   ],
   "source": [
    "head = None\n",
    "head = append(head,10)\n",
    "head = append(head,20)\n",
    "head = append(head,30)\n",
    "head = append(head,40)\n",
    "\n",
    "traverse(head)"
   ]
  },
  {
   "cell_type": "code",
   "execution_count": 19,
   "metadata": {},
   "outputs": [
    {
     "name": "stdout",
     "output_type": "stream",
     "text": [
      "20 is present in list .\n"
     ]
    }
   ],
   "source": [
    "search(head, 20)"
   ]
  },
  {
   "cell_type": "code",
   "execution_count": 20,
   "metadata": {},
   "outputs": [
    {
     "name": "stdout",
     "output_type": "stream",
     "text": [
      "40 is present in list .\n"
     ]
    }
   ],
   "source": [
    "search(head, 40)"
   ]
  },
  {
   "cell_type": "code",
   "execution_count": 21,
   "metadata": {},
   "outputs": [
    {
     "name": "stdout",
     "output_type": "stream",
     "text": [
      "10 is present in list .\n"
     ]
    }
   ],
   "source": [
    "search(head, 10)"
   ]
  },
  {
   "cell_type": "code",
   "execution_count": 22,
   "metadata": {},
   "outputs": [
    {
     "name": "stdout",
     "output_type": "stream",
     "text": [
      "202 is not present in list !\n"
     ]
    }
   ],
   "source": [
    "search(head, 202)"
   ]
  },
  {
   "cell_type": "code",
   "execution_count": 23,
   "metadata": {},
   "outputs": [],
   "source": [
    "#sorting linklist\n",
    "def sort(head):\n",
    "    if head is not None:\n",
    "        p = head\n",
    "        while p :\n",
    "            q = p.next\n",
    "            while q != head :\n",
    "                if q.data < p.data :\n",
    "                    temp = p.data\n",
    "                    p.data = q.data\n",
    "                    q.data = temp\n",
    "                q = q.next\n",
    "                if q is head :\n",
    "                    break\n",
    "            p = p.next\n",
    "            if p is head:\n",
    "                break\n",
    "    else:\n",
    "        print(\"Linklist is empty!\")\n",
    "    return head"
   ]
  },
  {
   "cell_type": "code",
   "execution_count": 24,
   "metadata": {},
   "outputs": [
    {
     "name": "stdout",
     "output_type": "stream",
     "text": [
      "30\n",
      "20\n",
      "50\n",
      "40\n",
      "90\n",
      "80\n",
      "60\n",
      "70\n"
     ]
    }
   ],
   "source": [
    "head = None\n",
    "\n",
    "head = append(head,30)\n",
    "head = append(head,20)\n",
    "head = append(head,50)\n",
    "head = append(head,40)\n",
    "head = append(head,90)\n",
    "head = append(head,80)\n",
    "head = append(head,60)\n",
    "head = append(head,70)\n",
    "\n",
    "traverse(head)"
   ]
  },
  {
   "cell_type": "code",
   "execution_count": 25,
   "metadata": {},
   "outputs": [
    {
     "name": "stdout",
     "output_type": "stream",
     "text": [
      "20\n",
      "30\n",
      "40\n",
      "50\n",
      "60\n",
      "70\n",
      "80\n",
      "90\n"
     ]
    }
   ],
   "source": [
    "head = sort(head)\n",
    "traverse(head)"
   ]
  },
  {
   "cell_type": "code",
   "execution_count": null,
   "metadata": {},
   "outputs": [],
   "source": []
  }
 ],
 "metadata": {
  "kernelspec": {
   "display_name": "Python 3",
   "language": "python",
   "name": "python3"
  },
  "language_info": {
   "codemirror_mode": {
    "name": "ipython",
    "version": 3
   },
   "file_extension": ".py",
   "mimetype": "text/x-python",
   "name": "python",
   "nbconvert_exporter": "python",
   "pygments_lexer": "ipython3",
   "version": "3.7.3"
  }
 },
 "nbformat": 4,
 "nbformat_minor": 2
}
